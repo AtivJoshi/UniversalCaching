{
 "cells": [
  {
   "cell_type": "code",
   "execution_count": 1,
   "id": "2c79b33d-0770-44ca-bb00-d74393bfa524",
   "metadata": {},
   "outputs": [],
   "source": [
    "%%capture\n",
    "import sys\n",
    "import time\n",
    "from datetime import datetime as dt\n",
    "import pytz\n",
    "IST=pytz.timezone('Asia/Kolkata')"
   ]
  },
  {
   "cell_type": "code",
   "execution_count": 3,
   "id": "f2b1b46a-820b-453a-9ba6-f9f3b6055023",
   "metadata": {},
   "outputs": [],
   "source": [
    "import numpy as np\n",
    "import pandas as pd\n",
    "import caching_policy as cp\n",
    "import importlib\n",
    "importlib.reload(cp)\n",
    "from data_loader import *\n",
    "from network_generator import *\n",
    "from matplotlib import pyplot as plt\n",
    "from data_generation import *\n",
    "import h5py\n",
    "import seaborn as sns\n",
    "import ast"
   ]
  },
  {
   "cell_type": "code",
   "execution_count": 3,
   "id": "5dcbfd1a-7dcc-4071-a969-053284f662b2",
   "metadata": {},
   "outputs": [],
   "source": [
    "folder_path='/home/studio-lab-user/iplc/data/'"
   ]
  },
  {
   "cell_type": "code",
   "execution_count": 4,
   "id": "8776723b-b343-4b65-ab20-9be8bae0a612",
   "metadata": {},
   "outputs": [],
   "source": [
    "accuracy={}\n",
    "num_files=3\n",
    "cache_size=2\n",
    "num_states=50 # for generating synthetic data\n",
    "total_time=10000000#len(data)\n",
    "prob='exp' # at each node while generating the data, instead of \n",
    "# prob='unif'\n",
    "store=h5py.File(folder_path+f'synthetic_fsm_num_files{num_files}_cache_size{cache_size}_S{num_states}_T{total_time}_{prob}.h5','w')"
   ]
  },
  {
   "cell_type": "code",
   "execution_count": 5,
   "id": "503b20d7-e9d0-4cb2-8441-af53f4c34456",
   "metadata": {},
   "outputs": [
    {
     "name": "stderr",
     "output_type": "stream",
     "text": [
      "100%|██████████| 10000000/10000000 [06:42<00:00, 24845.34it/s]"
     ]
    },
    {
     "name": "stdout",
     "output_type": "stream",
     "text": [
      "int64\n"
     ]
    },
    {
     "name": "stderr",
     "output_type": "stream",
     "text": [
      "\n"
     ]
    }
   ],
   "source": [
    "\n",
    "if prob=='exp':\n",
    "    p=np.zeros(cache_size)\n",
    "    for i in range(len(p)):\n",
    "        p[i]=1./(2**(i+1))\n",
    "    p=p/p.sum()\n",
    "else:\n",
    "    p=None\n",
    "data=generate_data_fsm(num_files,cache_size,num_states,total_time,p)\n",
    "data=data[:,np.newaxis]"
   ]
  },
  {
   "cell_type": "code",
   "execution_count": 6,
   "id": "9d177161-7cba-43e2-9596-d7c519b48ed2",
   "metadata": {},
   "outputs": [],
   "source": [
    "store.create_dataset('data',data=data)\n",
    "store['data'].attrs['num_files']=num_files\n",
    "store['data'].attrs['cache_size']=cache_size\n",
    "store['data'].attrs['total_time']=total_time\n",
    "store['data'].attrs['num_states']=num_states"
   ]
  },
  {
   "cell_type": "code",
   "execution_count": 7,
   "id": "853eaa9b-9aa9-4111-93f8-8f3a50400c1d",
   "metadata": {},
   "outputs": [
    {
     "name": "stderr",
     "output_type": "stream",
     "text": [
      "100%|██████████| 10000000/10000000 [13:09<00:00, 12669.36it/s]\n"
     ]
    },
    {
     "name": "stdout",
     "output_type": "stream",
     "text": [
      "0.8608186\n"
     ]
    }
   ],
   "source": [
    "cumulative_req_h,hits_h,rec_hitrate_h,rec_states_h=cp.hedge_fsm_single_cache(data,total_time,num_files,cache_size)\n",
    "accuracy['hedge']=rec_hitrate_h[-1]\n",
    "print(accuracy['hedge'])\n",
    "store['hedge/rec_hitrate']=rec_hitrate_h\n",
    "store['hedge/rec_states']=rec_states_h"
   ]
  },
  {
   "cell_type": "code",
   "execution_count": 8,
   "id": "87588e80-bbe7-4f04-91c0-604a62003424",
   "metadata": {},
   "outputs": [],
   "source": [
    "# df=pd.DataFrame(list(cumulative_req_h.items()),columns=['state','visits'])\n",
    "# df['hits']=df['state'].map(hits_h)\n",
    "# # df[['state']]=pd.DataFrame(df['state'].tolist(),index=df.index)\n",
    "# df=df.loc[:,['state','visits','hits']]\n",
    "# df.set_index(['state'],inplace=True,drop=True)\n",
    "# df['hitrate']=df['hits']/df['visits']\n",
    "# accuracy['hedge']=df['hits'].sum()/df['visits'].sum()\n",
    "\n",
    "\n",
    "# store.create_dataset('hedge/df/state',data=df.index.to_numpy(dtype='S'))\n",
    "# store.create_dataset('hedge/df/hits',data=df['hits'].to_numpy())\n",
    "# store.create_dataset('hedge/df/visits',data=df['visits'].to_numpy())\n"
   ]
  },
  {
   "cell_type": "code",
   "execution_count": null,
   "id": "f544aeeb-e533-4347-b272-ae768ce575b4",
   "metadata": {},
   "outputs": [
    {
     "name": "stderr",
     "output_type": "stream",
     "text": [
      "100%|██████████| 9999999/9999999 [05:24<00:00, 30802.07it/s]\n"
     ]
    },
    {
     "name": "stdout",
     "output_type": "stream",
     "text": [
      "order 1 markov:  0.7749247\n"
     ]
    },
    {
     "name": "stderr",
     "output_type": "stream",
     "text": [
      "100%|██████████| 9999998/9999998 [05:29<00:00, 30380.86it/s]\n"
     ]
    },
    {
     "name": "stdout",
     "output_type": "stream",
     "text": [
      "order 2 markov:  0.788698\n"
     ]
    },
    {
     "name": "stderr",
     "output_type": "stream",
     "text": [
      "100%|██████████| 9999997/9999997 [05:41<00:00, 29293.69it/s]\n"
     ]
    },
    {
     "name": "stdout",
     "output_type": "stream",
     "text": [
      "order 3 markov:  0.8312518\n"
     ]
    },
    {
     "name": "stderr",
     "output_type": "stream",
     "text": [
      "100%|██████████| 9999996/9999996 [05:54<00:00, 28205.73it/s]\n"
     ]
    },
    {
     "name": "stdout",
     "output_type": "stream",
     "text": [
      "order 4 markov:  0.8581127\n"
     ]
    },
    {
     "name": "stderr",
     "output_type": "stream",
     "text": [
      "100%|██████████| 9999995/9999995 [06:09<00:00, 27097.27it/s]\n"
     ]
    },
    {
     "name": "stdout",
     "output_type": "stream",
     "text": [
      "order 5 markov:  0.8859552\n"
     ]
    },
    {
     "name": "stderr",
     "output_type": "stream",
     "text": [
      "100%|██████████| 9999994/9999994 [06:21<00:00, 26237.33it/s]\n"
     ]
    },
    {
     "name": "stdout",
     "output_type": "stream",
     "text": [
      "order 6 markov:  0.9182784\n"
     ]
    },
    {
     "name": "stderr",
     "output_type": "stream",
     "text": [
      "100%|██████████| 9999993/9999993 [06:38<00:00, 25095.97it/s]\n"
     ]
    },
    {
     "name": "stdout",
     "output_type": "stream",
     "text": [
      "order 7 markov:  0.9416117\n"
     ]
    },
    {
     "name": "stderr",
     "output_type": "stream",
     "text": [
      "100%|██████████| 9999992/9999992 [06:56<00:00, 23991.12it/s]\n"
     ]
    },
    {
     "name": "stdout",
     "output_type": "stream",
     "text": [
      "order 8 markov:  0.9594462\n"
     ]
    },
    {
     "name": "stderr",
     "output_type": "stream",
     "text": [
      "100%|██████████| 9999991/9999991 [07:08<00:00, 23336.45it/s]\n"
     ]
    },
    {
     "name": "stdout",
     "output_type": "stream",
     "text": [
      "order 9 markov:  0.9719012\n"
     ]
    },
    {
     "name": "stderr",
     "output_type": "stream",
     "text": [
      "100%|██████████| 9999990/9999990 [07:21<00:00, 22664.41it/s]\n"
     ]
    },
    {
     "name": "stdout",
     "output_type": "stream",
     "text": [
      "order 10 markov:  0.9753207\n"
     ]
    },
    {
     "name": "stderr",
     "output_type": "stream",
     "text": [
      "100%|██████████| 9999989/9999989 [07:37<00:00, 21859.23it/s]\n"
     ]
    },
    {
     "name": "stdout",
     "output_type": "stream",
     "text": [
      "order 11 markov:  0.985568\n"
     ]
    },
    {
     "name": "stderr",
     "output_type": "stream",
     "text": [
      "100%|██████████| 9999988/9999988 [07:45<00:00, 21492.73it/s]\n"
     ]
    },
    {
     "name": "stdout",
     "output_type": "stream",
     "text": [
      "order 12 markov:  0.9707158\n"
     ]
    },
    {
     "name": "stderr",
     "output_type": "stream",
     "text": [
      "100%|██████████| 9999987/9999987 [08:00<00:00, 20797.53it/s]\n"
     ]
    },
    {
     "name": "stdout",
     "output_type": "stream",
     "text": [
      "order 13 markov:  0.9682285\n"
     ]
    },
    {
     "name": "stderr",
     "output_type": "stream",
     "text": [
      " 57%|█████▋    | 5702337/9999986 [04:34<03:56, 18141.82it/s]"
     ]
    }
   ],
   "source": [
    "for k in range(1,15):\n",
    "    cumulative_req_m,hits_m,rec_hitrate_m,rec_states_m=cp.markov_online_single_cache(data,total_time,num_files,cache_size,k)\n",
    "    # df=pd.DataFrame(list(cumulative_req_m.items()),columns=['state','visits'])\n",
    "    # df['hits']=df['state'].map(hits_m)\n",
    "    # # df[['state']]=pd.DataFrame(df['state'].tolist(),index=df.index)\n",
    "    # df=df.loc[:,['state','visits','hits']]\n",
    "    # df.set_index(['state'],inplace=True,drop=True)\n",
    "    # df['hitrate']=df['hits']/df['visits']\n",
    "    # accuracy[k]=df['hits'].sum()/df['visits'].sum()\n",
    "    accuracy[k]=rec_hitrate_m[-1]\n",
    "    print(f'order {k} markov: ',accuracy[k])"
   ]
  },
  {
   "cell_type": "code",
   "execution_count": null,
   "id": "67e1b5f1-ed51-45b5-b0d6-b1c0e1ec8f23",
   "metadata": {},
   "outputs": [],
   "source": [
    "cumulative_req_f,hits_f,rec_hitrate_f=cp.ftpl(data,total_time,num_files,cache_size)\n",
    "accuracy['ftpl']=hits_f/cumulative_req_f\n",
    "accuracy['ftpl']\n",
    "store['data'].attrs['accuracy']=str(accuracy)"
   ]
  },
  {
   "cell_type": "code",
   "execution_count": null,
   "id": "8be64932-d020-4256-be12-c8a2f0453222",
   "metadata": {},
   "outputs": [],
   "source": [
    "store.close()"
   ]
  },
  {
   "cell_type": "markdown",
   "id": "ab43203f-e7ea-49d5-ae90-db9cc3e98c3d",
   "metadata": {},
   "source": [
    "# Plot"
   ]
  },
  {
   "cell_type": "code",
   "execution_count": 33,
   "id": "ca74ce1c-f44c-4d92-ba1c-fb047e16f5a0",
   "metadata": {},
   "outputs": [
    {
     "name": "stdout",
     "output_type": "stream",
     "text": [
      "1 0.0 0\n",
      "2 0.0 0\n",
      "3 0.07076945278754043 0.07076945278754043\n",
      "4 0.168870931865445 0.168870931865445\n",
      "5 0.24128643530742688 0.24128643530742688\n",
      "6 0.2975677318375337 0.2975677318375337\n",
      "7 0.3429347787803835 0.3429347787803835\n",
      "8 0.3805129685250269 0.3805129685250269\n",
      "9 0.4123029998808001 0.4123029998808001\n",
      "10 0.4396528965744805 0.4396528965744805\n",
      "11 0.4635084934276632 0.4635084934276632\n",
      "12 0.4845556331227716 0.4845556331227716\n",
      "13 0.5033053798580727 0.5033053798580727\n",
      "14 0.5201474087811919 0.5201474087811919\n"
     ]
    }
   ],
   "source": [
    "def lb(Q,k,C,N,T):\n",
    "    '''\n",
    "    Lower bound as given by eq 7 (\\label{cache-miss-hedge}) in the paper.\n",
    "    Note that eq 7 gives an upperbound on cache misses, \n",
    "    but for plotting we convert it into a lower bound on cache hits.\n",
    "    '''\n",
    "    tmp=min(1,np.sqrt(np.log(Q)/(2*(k+1))))\n",
    "    tmp2=np.log(N*np.e/C)\n",
    "    return 1-(tmp + np.sqrt( 2*(N**k) * (C/T) * tmp2 * tmp) + (N**k)*(C/T) * tmp2)\n",
    "def lb_asym(Q,k,C,N,T):\n",
    "    return 1-min(1,np.sqrt(np.log(Q)/(2*(k+1))))\n",
    "for i in range(1,15): \n",
    "    print(i,lb(1000,i,3,10,1e100),1-min(1,np.sqrt(np.log(1000)/(2*(i+1)))))"
   ]
  },
  {
   "cell_type": "code",
   "execution_count": 43,
   "id": "1141ff3d-40e3-4d36-a652-8b11011c4687",
   "metadata": {},
   "outputs": [
    {
     "name": "stdout",
     "output_type": "stream",
     "text": [
      "1 0.011058266955511487 0.7749247\n",
      "2 0.1925324562324351 0.788698\n",
      "3 0.3007125943658657 0.8312518\n",
      "4 0.3745383300770425 0.8581127\n",
      "5 0.42903422421390947 0.8859552\n",
      "6 0.4713884084950095 0.9182784\n",
      "7 0.5055291334777557 0.9416117\n",
      "8 0.5338083962439105 0.9594462\n",
      "9 0.5577318118252147 0.9719012\n",
      "10 0.5783138281619123 0.9753207\n",
      "11 0.5962662281162175 0.985568\n",
      "12 0.6121051388769143 0.9707158\n",
      "13 0.6262151590330081 0.9682285\n",
      "14 0.6388895365021876 0.9595043\n"
     ]
    },
    {
     "data": {
      "image/png": "[encoded data removed]",
      "text/plain": [
       "<Figure size 432x288 with 1 Axes>"
      ]
     },
     "metadata": {},
     "output_type": "display_data"
    }
   ],
   "source": [
    "num_files=3\n",
    "cache_size=2\n",
    "num_states=50 # for generating synthetic data\n",
    "total_time=int(1e7)\n",
    "# prob='unif'\n",
    "prob='exp'\n",
    "store_path=folder_path+f'synthetic_fsm_num_files{num_files}_cache_size{cache_size}_S{num_states}_T{total_time}_{prob}.h5'\n",
    "with h5py.File(store_path,'r') as store:\n",
    "    sns.set(style=\"whitegrid\")\n",
    "    accuracy=ast.literal_eval(store['data'].attrs['accuracy'])\n",
    "    acc_hedge=accuracy.pop('hedge')\n",
    "    acc_ftpl=accuracy.pop('ftpl')\n",
    "    for i in list(accuracy.keys()):\n",
    "        x=accuracy.pop(i)\n",
    "        b=max(0,lb_asym(num_states,i,cache_size,num_files,total_time))\n",
    "        print(i,b,x)\n",
    "        accuracy[i]=[b,(x-b)]\n",
    "    ax=pd.DataFrame.from_dict(accuracy,orient='index',columns=['Lower Bound','Hitrate']).plot(kind='bar',stacked=True)\n",
    "    ax.axhline(acc_hedge,ls='--',label='Universal Caching')\n",
    "    ax.axhline(acc_ftpl,ls='--',label='Hedge',c='red')\n",
    "    ax.legend(loc='upper left', bbox_to_anchor=(1,1))\n",
    "    # ax.set_xlabel('Order of Markov Prefetcher with Hedge ($k$)')\n",
    "    # ax.set_ylabel('Hitrate')\n",
    "    ax.text(0,1.05,f'num_files: {num_files}\\ncache_size:{cache_size}\\nnum_states:{num_states}\\nprob:{prob}\\ntime:{total_time}',transform=ax.transAxes)\n",
    "    # ax.get_figure().savefig(folder_path+f'synthetic_fsm_num_files{num_files}_cache_size{cache_size}_S{num_states}_T{total_time}_{prob}_lb.png',bbox_inches=\"tight\")"
   ]
  },
  {
   "cell_type": "code",
   "execution_count": 13,
   "id": "9735f7b0-4a53-4484-925a-acc6a4bd3824",
   "metadata": {},
   "outputs": [
    {
     "name": "stdout",
     "output_type": "stream",
     "text": [
      "Collecting package metadata (current_repodata.json): done\n",
      "Solving environment: failed with initial frozen solve. Retrying with flexible solve.\n",
      "Collecting package metadata (repodata.json): \\ ^C\n"
     ]
    }
   ],
   "source": [
    "!conda install -c conda-forge miktex"
   ]
  }
 ],
 "metadata": {
  "interpreter": {
   "hash": "ccea24c44f962f1a297b9d5136c4a88ea9f80cd6183cc180206da41d7855a428"
  },
  "kernelspec": {
   "display_name": "default:Python",
   "language": "python",
   "name": "python3"
  },
  "language_info": {
   "codemirror_mode": {
    "name": "ipython",
    "version": 3
   },
   "file_extension": ".py",
   "mimetype": "text/x-python",
   "name": "python",
   "nbconvert_exporter": "python",
   "pygments_lexer": "ipython3",
   "version": "3.8.11"
  }
 },
 "nbformat": 4,
 "nbformat_minor": 5
}
