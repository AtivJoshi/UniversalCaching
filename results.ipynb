{
 "cells": [
  {
   "cell_type": "code",
   "execution_count": 2,
   "metadata": {},
   "outputs": [],
   "source": [
    "import pandas as pd\n",
    "from IPython.core.interactiveshell import InteractiveShell\n",
    "InteractiveShell.ast_node_interactivity = \"all\"\n",
    "pd.set_option('display.max_rows', None)\n"
   ]
  },
  {
   "cell_type": "markdown",
   "metadata": {},
   "source": [
    "# FSM Synthetic Data"
   ]
  },
  {
   "cell_type": "code",
   "execution_count": 3,
   "metadata": {},
   "outputs": [
    {
     "name": "stdout",
     "output_type": "stream",
     "text": [
      "metadata: {'users': 1, 'caches': 1, 'number of files': 100, 'cache size': 10, 'time': 1000000, 'dataset': 'syntheticfsm', 'col': -1, 'offset': -1, 'algo': 'iplc', 'hitrate_leadcache': 0.300896, 'hitrate': 0.554833}\n",
      "\n",
      "Only states with at least 200 visits are considered.\n",
      "Sorted in desc orderd of visits. \n",
      "Average hitrate: 0.642\n"
     ]
    },
    {
     "data": {
      "text/html": [
       "<div>\n",
       "<style scoped>\n",
       "    .dataframe tbody tr th:only-of-type {\n",
       "        vertical-align: middle;\n",
       "    }\n",
       "\n",
       "    .dataframe tbody tr th {\n",
       "        vertical-align: top;\n",
       "    }\n",
       "\n",
       "    .dataframe thead th {\n",
       "        text-align: right;\n",
       "    }\n",
       "</style>\n",
       "<table border=\"1\" class=\"dataframe\">\n",
       "  <thead>\n",
       "    <tr style=\"text-align: right;\">\n",
       "      <th></th>\n",
       "      <th></th>\n",
       "      <th>visits</th>\n",
       "      <th>hits</th>\n",
       "      <th>hitrate</th>\n",
       "    </tr>\n",
       "    <tr>\n",
       "      <th>fsm</th>\n",
       "      <th>state</th>\n",
       "      <th></th>\n",
       "      <th></th>\n",
       "      <th></th>\n",
       "    </tr>\n",
       "  </thead>\n",
       "  <tbody>\n",
       "    <tr>\n",
       "      <th rowspan=\"10\" valign=\"top\">0</th>\n",
       "      <th>epsilon</th>\n",
       "      <td>217270</td>\n",
       "      <td>65334</td>\n",
       "      <td>0.300704</td>\n",
       "    </tr>\n",
       "    <tr>\n",
       "      <th>epsilon:28</th>\n",
       "      <td>9655</td>\n",
       "      <td>5268</td>\n",
       "      <td>0.545624</td>\n",
       "    </tr>\n",
       "    <tr>\n",
       "      <th>epsilon:26</th>\n",
       "      <td>8325</td>\n",
       "      <td>5371</td>\n",
       "      <td>0.645165</td>\n",
       "    </tr>\n",
       "    <tr>\n",
       "      <th>epsilon:2</th>\n",
       "      <td>7053</td>\n",
       "      <td>5163</td>\n",
       "      <td>0.732029</td>\n",
       "    </tr>\n",
       "    <tr>\n",
       "      <th>epsilon:79</th>\n",
       "      <td>6448</td>\n",
       "      <td>3855</td>\n",
       "      <td>0.597860</td>\n",
       "    </tr>\n",
       "    <tr>\n",
       "      <th>epsilon:20</th>\n",
       "      <td>6294</td>\n",
       "      <td>3776</td>\n",
       "      <td>0.599936</td>\n",
       "    </tr>\n",
       "    <tr>\n",
       "      <th>epsilon:62</th>\n",
       "      <td>6177</td>\n",
       "      <td>3781</td>\n",
       "      <td>0.612109</td>\n",
       "    </tr>\n",
       "    <tr>\n",
       "      <th>epsilon:64</th>\n",
       "      <td>5530</td>\n",
       "      <td>3717</td>\n",
       "      <td>0.672152</td>\n",
       "    </tr>\n",
       "    <tr>\n",
       "      <th>epsilon:59</th>\n",
       "      <td>5429</td>\n",
       "      <td>2876</td>\n",
       "      <td>0.529748</td>\n",
       "    </tr>\n",
       "    <tr>\n",
       "      <th>epsilon:81</th>\n",
       "      <td>5404</td>\n",
       "      <td>3443</td>\n",
       "      <td>0.637121</td>\n",
       "    </tr>\n",
       "  </tbody>\n",
       "</table>\n",
       "</div>"
      ],
      "text/plain": [
       "                visits   hits   hitrate\n",
       "fsm state                              \n",
       "0   epsilon     217270  65334  0.300704\n",
       "    epsilon:28    9655   5268  0.545624\n",
       "    epsilon:26    8325   5371  0.645165\n",
       "    epsilon:2     7053   5163  0.732029\n",
       "    epsilon:79    6448   3855  0.597860\n",
       "    epsilon:20    6294   3776  0.599936\n",
       "    epsilon:62    6177   3781  0.612109\n",
       "    epsilon:64    5530   3717  0.672152\n",
       "    epsilon:59    5429   2876  0.529748\n",
       "    epsilon:81    5404   3443  0.637121"
      ]
     },
     "execution_count": 3,
     "metadata": {},
     "output_type": "execute_result"
    }
   ],
   "source": [
    "# file request at each state is generated uniformly at random\n",
    "with pd.HDFStore('data/syntheticfsm/syntheticfsm_col-1_iplc_multifsm_u1_c1_t1000000_d1_f100_04_17_22_04_04.h5') as storage:\n",
    "    df = storage['df']\n",
    "    metadata = storage.get_storer('df').attrs.metadata\n",
    "    # metadata['offset']=3000\n",
    "    # _=metadata.pop('col')\n",
    "    # storage.get_storer('df').attrs.metadata=metadata\n",
    "    _ = metadata.pop('network_graph')\n",
    "\n",
    "    cutoff=200\n",
    "    df1 = df.drop(df[df['visits'] < cutoff].index)\n",
    "    hitrate_filtered=df1['hits'].sum()/df1['visits'].sum()\n",
    "    df1.sort_values(by=['fsm','visits'], inplace=True, ascending=[True,False])\n",
    "\n",
    "    print(f'metadata: {metadata}\\n')\n",
    "    print(f'Only states with at least {cutoff} visits are considered.')\n",
    "    print(f'Sorted in desc orderd of visits. \\nAverage hitrate: {hitrate_filtered:0.3}')\n",
    "    df1[:10]"
   ]
  },
  {
   "cell_type": "code",
   "execution_count": 4,
   "metadata": {},
   "outputs": [
    {
     "name": "stdout",
     "output_type": "stream",
     "text": [
      "metadata: {'users': 1, 'caches': 1, 'number of files': 100, 'cache size': 10, 'time': 1000000, 'dataset': 'syntheticfsm', 'col': -1, 'offset': -1, 'algo': 'markov_offline', 'hitrate_leadcache': 0.300896, 'hitrate': 0.7858657858657858}\n",
      "\n",
      "Only states with at least 200 visits are considered.\n",
      "Sorted in desc orderd of visits. \n",
      "Average hitrate: 0.786\n"
     ]
    },
    {
     "data": {
      "text/html": [
       "<div>\n",
       "<style scoped>\n",
       "    .dataframe tbody tr th:only-of-type {\n",
       "        vertical-align: middle;\n",
       "    }\n",
       "\n",
       "    .dataframe tbody tr th {\n",
       "        vertical-align: top;\n",
       "    }\n",
       "\n",
       "    .dataframe thead th {\n",
       "        text-align: right;\n",
       "    }\n",
       "</style>\n",
       "<table border=\"1\" class=\"dataframe\">\n",
       "  <thead>\n",
       "    <tr style=\"text-align: right;\">\n",
       "      <th></th>\n",
       "      <th></th>\n",
       "      <th>visits</th>\n",
       "      <th>hits</th>\n",
       "      <th>hitrate</th>\n",
       "    </tr>\n",
       "    <tr>\n",
       "      <th>fsm</th>\n",
       "      <th>state</th>\n",
       "      <th></th>\n",
       "      <th></th>\n",
       "      <th></th>\n",
       "    </tr>\n",
       "  </thead>\n",
       "  <tbody>\n",
       "    <tr>\n",
       "      <th rowspan=\"10\" valign=\"top\">0</th>\n",
       "      <th>(28,)</th>\n",
       "      <td>44205</td>\n",
       "      <td>24458</td>\n",
       "      <td>0.553286</td>\n",
       "    </tr>\n",
       "    <tr>\n",
       "      <th>(26,)</th>\n",
       "      <td>38111</td>\n",
       "      <td>24773</td>\n",
       "      <td>0.650022</td>\n",
       "    </tr>\n",
       "    <tr>\n",
       "      <th>(2,)</th>\n",
       "      <td>32067</td>\n",
       "      <td>23764</td>\n",
       "      <td>0.741073</td>\n",
       "    </tr>\n",
       "    <tr>\n",
       "      <th>(79,)</th>\n",
       "      <td>30058</td>\n",
       "      <td>18350</td>\n",
       "      <td>0.610486</td>\n",
       "    </tr>\n",
       "    <tr>\n",
       "      <th>(62,)</th>\n",
       "      <td>28722</td>\n",
       "      <td>17790</td>\n",
       "      <td>0.619386</td>\n",
       "    </tr>\n",
       "    <tr>\n",
       "      <th>(20,)</th>\n",
       "      <td>28373</td>\n",
       "      <td>17597</td>\n",
       "      <td>0.620202</td>\n",
       "    </tr>\n",
       "    <tr>\n",
       "      <th>(64,)</th>\n",
       "      <td>25343</td>\n",
       "      <td>17110</td>\n",
       "      <td>0.675137</td>\n",
       "    </tr>\n",
       "    <tr>\n",
       "      <th>(81,)</th>\n",
       "      <td>25131</td>\n",
       "      <td>16213</td>\n",
       "      <td>0.645139</td>\n",
       "    </tr>\n",
       "    <tr>\n",
       "      <th>(59,)</th>\n",
       "      <td>24939</td>\n",
       "      <td>13863</td>\n",
       "      <td>0.555876</td>\n",
       "    </tr>\n",
       "    <tr>\n",
       "      <th>(36,)</th>\n",
       "      <td>24187</td>\n",
       "      <td>15693</td>\n",
       "      <td>0.648820</td>\n",
       "    </tr>\n",
       "  </tbody>\n",
       "</table>\n",
       "</div>"
      ],
      "text/plain": [
       "           visits   hits   hitrate\n",
       "fsm state                         \n",
       "0   (28,)   44205  24458  0.553286\n",
       "    (26,)   38111  24773  0.650022\n",
       "    (2,)    32067  23764  0.741073\n",
       "    (79,)   30058  18350  0.610486\n",
       "    (62,)   28722  17790  0.619386\n",
       "    (20,)   28373  17597  0.620202\n",
       "    (64,)   25343  17110  0.675137\n",
       "    (81,)   25131  16213  0.645139\n",
       "    (59,)   24939  13863  0.555876\n",
       "    (36,)   24187  15693  0.648820"
      ]
     },
     "execution_count": 4,
     "metadata": {},
     "output_type": "execute_result"
    }
   ],
   "source": [
    "# file request at each state is generated uniformly at random\n",
    "with pd.HDFStore('data/syntheticfsm/syntheticfsm_col-1_markov_offline_multifsm_u1_c1_t1000000_d1_f100_04_17_21_24_20.h5') as storage:\n",
    "    df = storage['df']\n",
    "    metadata = storage.get_storer('df').attrs.metadata\n",
    "    # metadata['offset']=3000\n",
    "    # _=metadata.pop('col')\n",
    "    # storage.get_storer('df').attrs.metadata=metadata\n",
    "    _ = metadata.pop('network_graph')\n",
    "\n",
    "    cutoff=200\n",
    "    df1 = df.drop(df[df['visits'] < cutoff].index)\n",
    "    hitrate_filtered=df1['hits'].sum()/df1['visits'].sum()\n",
    "    df1.sort_values(by=['fsm','visits'], inplace=True, ascending=[True,False])\n",
    "\n",
    "    print(f'metadata: {metadata}\\n')\n",
    "    print(f'Only states with at least {cutoff} visits are considered.')\n",
    "    print(f'Sorted in desc orderd of visits. \\nAverage hitrate: {hitrate_filtered:0.3}')\n",
    "    df1[:10]"
   ]
  },
  {
   "cell_type": "code",
   "execution_count": 5,
   "metadata": {},
   "outputs": [
    {
     "name": "stdout",
     "output_type": "stream",
     "text": [
      "metadata: {'users': 1, 'caches': 1, 'number of files': 50, 'cache size': 5, 'time': 500000, 'dataset': 'syntheticfsm', 'col': -1, 'offset': -1, 'algo': 'iplc', 'hitrate_leadcache': 0.242522, 'hitrate': 0.615958}\n",
      "\n",
      "Only states with at least 200 visits are considered.\n",
      "Sorted in desc orderd of visits. \n",
      "Average hitrate: 0.571\n"
     ]
    },
    {
     "data": {
      "text/html": [
       "<div>\n",
       "<style scoped>\n",
       "    .dataframe tbody tr th:only-of-type {\n",
       "        vertical-align: middle;\n",
       "    }\n",
       "\n",
       "    .dataframe tbody tr th {\n",
       "        vertical-align: top;\n",
       "    }\n",
       "\n",
       "    .dataframe thead th {\n",
       "        text-align: right;\n",
       "    }\n",
       "</style>\n",
       "<table border=\"1\" class=\"dataframe\">\n",
       "  <thead>\n",
       "    <tr style=\"text-align: right;\">\n",
       "      <th></th>\n",
       "      <th></th>\n",
       "      <th>visits</th>\n",
       "      <th>hits</th>\n",
       "      <th>hitrate</th>\n",
       "    </tr>\n",
       "    <tr>\n",
       "      <th>fsm</th>\n",
       "      <th>state</th>\n",
       "      <th></th>\n",
       "      <th></th>\n",
       "      <th></th>\n",
       "    </tr>\n",
       "  </thead>\n",
       "  <tbody>\n",
       "    <tr>\n",
       "      <th rowspan=\"10\" valign=\"top\">0</th>\n",
       "      <th>epsilon</th>\n",
       "      <td>87186</td>\n",
       "      <td>20601</td>\n",
       "      <td>0.236288</td>\n",
       "    </tr>\n",
       "    <tr>\n",
       "      <th>epsilon:24</th>\n",
       "      <td>4754</td>\n",
       "      <td>2664</td>\n",
       "      <td>0.560370</td>\n",
       "    </tr>\n",
       "    <tr>\n",
       "      <th>epsilon:10</th>\n",
       "      <td>4199</td>\n",
       "      <td>2953</td>\n",
       "      <td>0.703263</td>\n",
       "    </tr>\n",
       "    <tr>\n",
       "      <th>epsilon:29</th>\n",
       "      <td>4174</td>\n",
       "      <td>2071</td>\n",
       "      <td>0.496167</td>\n",
       "    </tr>\n",
       "    <tr>\n",
       "      <th>epsilon:18</th>\n",
       "      <td>3888</td>\n",
       "      <td>2246</td>\n",
       "      <td>0.577675</td>\n",
       "    </tr>\n",
       "    <tr>\n",
       "      <th>epsilon:49</th>\n",
       "      <td>3645</td>\n",
       "      <td>2147</td>\n",
       "      <td>0.589026</td>\n",
       "    </tr>\n",
       "    <tr>\n",
       "      <th>epsilon:25</th>\n",
       "      <td>3035</td>\n",
       "      <td>1532</td>\n",
       "      <td>0.504778</td>\n",
       "    </tr>\n",
       "    <tr>\n",
       "      <th>epsilon:0</th>\n",
       "      <td>2943</td>\n",
       "      <td>1676</td>\n",
       "      <td>0.569487</td>\n",
       "    </tr>\n",
       "    <tr>\n",
       "      <th>epsilon:23</th>\n",
       "      <td>2816</td>\n",
       "      <td>1922</td>\n",
       "      <td>0.682528</td>\n",
       "    </tr>\n",
       "    <tr>\n",
       "      <th>epsilon:17</th>\n",
       "      <td>2532</td>\n",
       "      <td>1727</td>\n",
       "      <td>0.682070</td>\n",
       "    </tr>\n",
       "  </tbody>\n",
       "</table>\n",
       "</div>"
      ],
      "text/plain": [
       "                visits   hits   hitrate\n",
       "fsm state                              \n",
       "0   epsilon      87186  20601  0.236288\n",
       "    epsilon:24    4754   2664  0.560370\n",
       "    epsilon:10    4199   2953  0.703263\n",
       "    epsilon:29    4174   2071  0.496167\n",
       "    epsilon:18    3888   2246  0.577675\n",
       "    epsilon:49    3645   2147  0.589026\n",
       "    epsilon:25    3035   1532  0.504778\n",
       "    epsilon:0     2943   1676  0.569487\n",
       "    epsilon:23    2816   1922  0.682528\n",
       "    epsilon:17    2532   1727  0.682070"
      ]
     },
     "execution_count": 5,
     "metadata": {},
     "output_type": "execute_result"
    }
   ],
   "source": [
    "# file request at each state is generated using the probability vector [0.5,0.25,0.125,0.0625,0.0625]\n",
    "with pd.HDFStore('data/syntheticfsm/syntheticfsm_col-1_iplc_multifsm_u1_c1_t500000_d1_f50_04_18_01_30_58.h5') as storage:\n",
    "    df = storage['df']\n",
    "    metadata = storage.get_storer('df').attrs.metadata\n",
    "    # metadata['offset']=3000\n",
    "    # _=metadata.pop('col')\n",
    "    # storage.get_storer('df').attrs.metadata=metadata\n",
    "    _ = metadata.pop('network_graph')\n",
    "\n",
    "    cutoff=200\n",
    "    df1 = df.drop(df[df['visits'] < cutoff].index)\n",
    "    hitrate_filtered=df1['hits'].sum()/df1['visits'].sum()\n",
    "    df1.sort_values(by=['fsm','visits'], inplace=True, ascending=[True,False])\n",
    "\n",
    "    print(f'metadata: {metadata}\\n')\n",
    "    print(f'Only states with at least {cutoff} visits are considered.')\n",
    "    print(f'Sorted in desc orderd of visits. \\nAverage hitrate: {hitrate_filtered:0.3}')\n",
    "    df1[:10]"
   ]
  },
  {
   "cell_type": "code",
   "execution_count": 6,
   "metadata": {},
   "outputs": [
    {
     "name": "stdout",
     "output_type": "stream",
     "text": [
      "metadata: {'users': 1, 'caches': 1, 'number of files': 50, 'cache size': 5, 'time': 500000, 'dataset': 'syntheticfsm', 'col': -1, 'offset': -1, 'algo': 'markov_offline', 'hitrate_leadcache': 0.242522, 'hitrate': 0.683763367526735}\n",
      "\n",
      "Only states with at least 200 visits are considered.\n",
      "Sorted in desc orderd of visits. \n",
      "Average hitrate: 0.684\n"
     ]
    },
    {
     "data": {
      "text/html": [
       "<div>\n",
       "<style scoped>\n",
       "    .dataframe tbody tr th:only-of-type {\n",
       "        vertical-align: middle;\n",
       "    }\n",
       "\n",
       "    .dataframe tbody tr th {\n",
       "        vertical-align: top;\n",
       "    }\n",
       "\n",
       "    .dataframe thead th {\n",
       "        text-align: right;\n",
       "    }\n",
       "</style>\n",
       "<table border=\"1\" class=\"dataframe\">\n",
       "  <thead>\n",
       "    <tr style=\"text-align: right;\">\n",
       "      <th></th>\n",
       "      <th></th>\n",
       "      <th>visits</th>\n",
       "      <th>hits</th>\n",
       "      <th>hitrate</th>\n",
       "    </tr>\n",
       "    <tr>\n",
       "      <th>fsm</th>\n",
       "      <th>state</th>\n",
       "      <th></th>\n",
       "      <th></th>\n",
       "      <th></th>\n",
       "    </tr>\n",
       "  </thead>\n",
       "  <tbody>\n",
       "    <tr>\n",
       "      <th rowspan=\"10\" valign=\"top\">0</th>\n",
       "      <th>(24,)</th>\n",
       "      <td>25657</td>\n",
       "      <td>14749</td>\n",
       "      <td>0.574853</td>\n",
       "    </tr>\n",
       "    <tr>\n",
       "      <th>(29,)</th>\n",
       "      <td>25011</td>\n",
       "      <td>12249</td>\n",
       "      <td>0.489745</td>\n",
       "    </tr>\n",
       "    <tr>\n",
       "      <th>(10,)</th>\n",
       "      <td>24952</td>\n",
       "      <td>17659</td>\n",
       "      <td>0.707719</td>\n",
       "    </tr>\n",
       "    <tr>\n",
       "      <th>(18,)</th>\n",
       "      <td>23568</td>\n",
       "      <td>14490</td>\n",
       "      <td>0.614817</td>\n",
       "    </tr>\n",
       "    <tr>\n",
       "      <th>(49,)</th>\n",
       "      <td>22171</td>\n",
       "      <td>13313</td>\n",
       "      <td>0.600469</td>\n",
       "    </tr>\n",
       "    <tr>\n",
       "      <th>(25,)</th>\n",
       "      <td>19932</td>\n",
       "      <td>11123</td>\n",
       "      <td>0.558047</td>\n",
       "    </tr>\n",
       "    <tr>\n",
       "      <th>(23,)</th>\n",
       "      <td>17535</td>\n",
       "      <td>12435</td>\n",
       "      <td>0.709153</td>\n",
       "    </tr>\n",
       "    <tr>\n",
       "      <th>(26,)</th>\n",
       "      <td>15939</td>\n",
       "      <td>12887</td>\n",
       "      <td>0.808520</td>\n",
       "    </tr>\n",
       "    <tr>\n",
       "      <th>(0,)</th>\n",
       "      <td>15427</td>\n",
       "      <td>9113</td>\n",
       "      <td>0.590718</td>\n",
       "    </tr>\n",
       "    <tr>\n",
       "      <th>(17,)</th>\n",
       "      <td>14829</td>\n",
       "      <td>10139</td>\n",
       "      <td>0.683728</td>\n",
       "    </tr>\n",
       "  </tbody>\n",
       "</table>\n",
       "</div>"
      ],
      "text/plain": [
       "           visits   hits   hitrate\n",
       "fsm state                         \n",
       "0   (24,)   25657  14749  0.574853\n",
       "    (29,)   25011  12249  0.489745\n",
       "    (10,)   24952  17659  0.707719\n",
       "    (18,)   23568  14490  0.614817\n",
       "    (49,)   22171  13313  0.600469\n",
       "    (25,)   19932  11123  0.558047\n",
       "    (23,)   17535  12435  0.709153\n",
       "    (26,)   15939  12887  0.808520\n",
       "    (0,)    15427   9113  0.590718\n",
       "    (17,)   14829  10139  0.683728"
      ]
     },
     "execution_count": 6,
     "metadata": {},
     "output_type": "execute_result"
    }
   ],
   "source": [
    "# file request at each state is generated using the probability vector [0.5,0.25,0.125,0.0625,0.0625]\n",
    "with pd.HDFStore('data/syntheticfsm/syntheticfsm_col-1_markov_offline_multifsm_u1_c1_t500000_d1_f50_04_18_01_15_54.h5') as storage:\n",
    "    df = storage['df']\n",
    "    metadata = storage.get_storer('df').attrs.metadata\n",
    "    # metadata['offset']=3000\n",
    "    # _=metadata.pop('col')\n",
    "    # storage.get_storer('df').attrs.metadata=metadata\n",
    "    _ = metadata.pop('network_graph')\n",
    "\n",
    "    cutoff=200\n",
    "    df1 = df.drop(df[df['visits'] < cutoff].index)\n",
    "    hitrate_filtered=df1['hits'].sum()/df1['visits'].sum()\n",
    "    df1.sort_values(by=['fsm','visits'], inplace=True, ascending=[True,False])\n",
    "\n",
    "    print(f'metadata: {metadata}\\n')\n",
    "    print(f'Only states with at least {cutoff} visits are considered.')\n",
    "    print(f'Sorted in desc orderd of visits. \\nAverage hitrate: {hitrate_filtered:0.3}')\n",
    "    df1[:10]"
   ]
  },
  {
   "cell_type": "markdown",
   "metadata": {},
   "source": [
    "## CMU"
   ]
  },
  {
   "cell_type": "code",
   "execution_count": 10,
   "metadata": {},
   "outputs": [
    {
     "name": "stdout",
     "output_type": "stream",
     "text": [
      "metadata: {'users': 1, 'caches': 1, 'number of files': 300, 'cache size': 30, 'time': 135711, 'dataset': 'cmu', 'algo': 'iplc', 'hitrate_leadcache': 0.9171400991813486, 'hitrate': 0.8408014088762149, 'offset': 3000}\n",
      "\n",
      "Only states with at least 200 visits are considered.\n",
      "Sorted in desc orderd of visits. \n",
      "Average hitrate: 0.895\n"
     ]
    }
   ],
   "source": [
    "with pd.HDFStore('data/cmu/cmu_offset3k_iplc_multifsm_u1_c1_t135711_d1_f300_11_11_22_51_20.h5') as storage:\n",
    "    df = storage['df']\n",
    "    metadata = storage.get_storer('df').attrs.metadata\n",
    "    # metadata['offset']=3000\n",
    "    # _=metadata.pop('col')\n",
    "    # storage.get_storer('df').attrs.metadata=metadata\n",
    "    _ = metadata.pop('network_graph')\n",
    "\n",
    "    cutoff=200\n",
    "    df1 = df.drop(df[df['visits'] < cutoff].index)\n",
    "    hitrate_filtered=df1['hits'].sum()/df1['visits'].sum()\n",
    "    df1.sort_values(by=['fsm','visits'], inplace=True, ascending=[True,False])\n",
    "\n",
    "    print(f'metadata: {metadata}\\n')\n",
    "    print(f'Only states with at least {cutoff} visits are considered.')\n",
    "    print(f'Sorted in desc orderd of visits. \\nAverage hitrate: {hitrate_filtered:0.3}')\n",
    "    # df1"
   ]
  },
  {
   "cell_type": "code",
   "execution_count": 12,
   "metadata": {},
   "outputs": [
    {
     "name": "stdout",
     "output_type": "stream",
     "text": [
      "metadata: {'users': 1, 'caches': 1, 'number of files': 300, 'cache size': 30, 'time': 123294, 'dataset': 'cmu', 'offset': 7500, 'algo': 'iplc', 'hitrate_leadcache': 0.9072947588690448, 'hitrate': 0.7999983778610475}\n",
      "\n",
      "Only states with at least 200 visits are considered.\n",
      "Sorted in desc orderd of visits. \n",
      "Average hitrate: 0.883\n"
     ]
    }
   ],
   "source": [
    "with pd.HDFStore('data/cmu/cmu_col-1_iplc_multifsm_u1_c1_t123294_d1_f300_11_12_12_23_35.h5') as storage:\n",
    "    df = storage['df']\n",
    "    metadata = storage.get_storer('df').attrs.metadata\n",
    "    # metadata['offset']=3000\n",
    "    # _=metadata.pop('col')\n",
    "    # storage.get_storer('df').attrs.metadata=metadata\n",
    "    _ = metadata.pop('network_graph')\n",
    "\n",
    "    cutoff=200\n",
    "    df1 = df.drop(df[df['visits'] < cutoff].index)\n",
    "    hitrate_filtered=df1['hits'].sum()/df1['visits'].sum()\n",
    "    df1.sort_values(by=['fsm','visits'], inplace=True, ascending=[True,False])\n",
    "\n",
    "    print(f'metadata: {metadata}\\n')\n",
    "    print(f'Only states with at least {cutoff} visits are considered.')\n",
    "    print(f'Sorted in desc orderd of visits. \\nAverage hitrate: {hitrate_filtered:0.3}')\n",
    "    # df1"
   ]
  },
  {
   "cell_type": "code",
   "execution_count": 30,
   "metadata": {},
   "outputs": [
    {
     "name": "stdout",
     "output_type": "stream",
     "text": [
      "metadata: {'users': 10, 'caches': 4, 'number of files': 300, 'cache size': 30, 'time': 2320, 'dataset': 'cmu', 'algo': 'iplc', 'hitrate_leadcache': 0.5651293103448276, 'hitrate': 0.5628017241379311, 'offset': 0}\n",
      "\n",
      "Only states with at least 50 visits are considered.\n",
      "Sorted in desc orderd of visits. \n",
      "Average hitrate: 0.59\n"
     ]
    }
   ],
   "source": [
    "with pd.HDFStore('data/cmu/cmu_old_iplc_multifsm_u10_c4_t2320_d6_f300_11_10_20_30_07.h5') as storage:\n",
    "    df = storage['df']\n",
    "    metadata = storage.get_storer('df').attrs.metadata\n",
    "    # metadata['offset']=0\n",
    "    # _=metadata.pop('col')\n",
    "    # storage.get_storer('df').attrs.metadata=metadata\n",
    "    _ = metadata.pop('network_graph')\n",
    "\n",
    "    cutoff=50\n",
    "    df1 = df.drop(df[df['visits'] < cutoff].index)\n",
    "    hitrate_filtered=df1['hits'].sum()/df1['visits'].sum()\n",
    "    df1.sort_values(by=['fsm','visits'], inplace=True, ascending=[True,False])\n",
    "\n",
    "    print(f'metadata: {metadata}\\n')\n",
    "    print(f'Only states with at least {cutoff} visits are considered.')\n",
    "    print(f'Sorted in desc orderd of visits. \\nAverage hitrate: {hitrate_filtered:0.3}')\n",
    "    # df1"
   ]
  },
  {
   "cell_type": "code",
   "execution_count": 22,
   "metadata": {},
   "outputs": [
    {
     "name": "stdout",
     "output_type": "stream",
     "text": [
      "metadata: {'users': 10, 'caches': 4, 'number of files': 300, 'cache size': 30, 'time': 10000, 'dataset': 'cmu', 'offset': 7500, 'algo': 'iplc', 'hitrate_leadcache': 0.73282, 'hitrate': 0.76799}\n",
      "\n",
      "Only states with at least 200 visits are considered.\n",
      "Sorted in desc orderd of visits. \n",
      "Average hitrate: 0.77\n"
     ]
    }
   ],
   "source": [
    "with pd.HDFStore('data/cmu/cmu_col-1_iplc_multifsm_u10_c4_t10000_d6_f300_11_12_15_47_20.h5') as storage:\n",
    "    df = storage['df']\n",
    "    metadata = storage.get_storer('df').attrs.metadata\n",
    "    # metadata['offset']=3000\n",
    "    # _=metadata.pop('col')\n",
    "    # storage.get_storer('df').attrs.metadata=metadata\n",
    "    _ = metadata.pop('network_graph')\n",
    "\n",
    "    cutoff=200\n",
    "    df1 = df.drop(df[df['visits'] < cutoff].index)\n",
    "    hitrate_filtered=df1['hits'].sum()/df1['visits'].sum()\n",
    "    df1.sort_values(by=['fsm','visits'], inplace=True, ascending=[True,False])\n",
    "\n",
    "    print(f'metadata: {metadata}\\n')\n",
    "    print(f'Only states with at least {cutoff} visits are considered.')\n",
    "    print(f'Sorted in desc orderd of visits. \\nAverage hitrate: {hitrate_filtered:0.3}')\n",
    "    # df1"
   ]
  },
  {
   "cell_type": "code",
   "execution_count": 31,
   "metadata": {},
   "outputs": [
    {
     "name": "stdout",
     "output_type": "stream",
     "text": [
      "metadata: {'users': 15, 'caches': 7, 'number of files': 300, 'cache size': 30, 'time': 1546, 'dataset': 'cmu', 'algo': 'iplc', 'hitrate_leadcache': 0.6432082794307892, 'hitrate': 0.5989650711513583, 'offset': 0}\n",
      "\n",
      "Only states with at least 50 visits are considered.\n",
      "Sorted in desc orderd of visits. \n",
      "Average hitrate: 0.619\n"
     ]
    }
   ],
   "source": [
    "with pd.HDFStore('data/cmu/cmu_old_iplc_multifsm_u15_c7_t1546_d8_f300_11_10_21_09_33.h5') as storage:\n",
    "    df = storage['df']\n",
    "    metadata = storage.get_storer('df').attrs.metadata\n",
    "    # metadata['offset']=0\n",
    "    # metadata['hitrate_leadcache']=0.6432082794307892\n",
    "    # _=metadata.pop('col')\n",
    "    # storage.get_storer('df').attrs.metadata=metadata\n",
    "    _ = metadata.pop('network_graph')\n",
    "\n",
    "    cutoff=50\n",
    "    df1 = df.drop(df[df['visits'] < cutoff].index)\n",
    "    hitrate_filtered=df1['hits'].sum()/df1['visits'].sum()\n",
    "    df1.sort_values(by=['fsm','visits'], inplace=True, ascending=[True,False])\n",
    "\n",
    "    print(f'metadata: {metadata}\\n')\n",
    "    print(f'Only states with at least {cutoff} visits are considered.')\n",
    "    print(f'Sorted in desc orderd of visits. \\nAverage hitrate: {hitrate_filtered:0.3}')\n",
    "    # df1"
   ]
  },
  {
   "cell_type": "code",
   "execution_count": 34,
   "metadata": {},
   "outputs": [
    {
     "name": "stdout",
     "output_type": "stream",
     "text": [
      "metadata: {'users': 15, 'caches': 7, 'number of files': 300, 'cache size': 30, 'time': 5000, 'dataset': 'cmu', 'offset': 3000, 'algo': 'iplc', 'hitrate_leadcache': 0.77488, 'hitrate': 0.7681066666666667}\n",
      "\n",
      "Only states with at least 200 visits are considered.\n",
      "Sorted in desc orderd of visits. \n",
      "Average hitrate: 0.775\n"
     ]
    }
   ],
   "source": [
    "with pd.HDFStore('data/cmu/cmu_col-1_iplc_multifsm_u15_c7_t5000_d8_f300_11_12_11_32_12.h5') as storage:\n",
    "    df = storage['df']\n",
    "    metadata = storage.get_storer('df').attrs.metadata\n",
    "    # metadata['offset']=0\n",
    "    # metadata['hitrate_leadcache']=0.77488\n",
    "    # _=metadata.pop('col')\n",
    "    # storage.get_storer('df').attrs.metadata=metadata\n",
    "    _ = metadata.pop('network_graph')\n",
    "\n",
    "    cutoff=200\n",
    "    df1 = df.drop(df[df['visits'] < cutoff].index)\n",
    "    hitrate_filtered=df1['hits'].sum()/df1['visits'].sum()\n",
    "    df1.sort_values(by=['fsm','visits'], inplace=True, ascending=[True,False])\n",
    "\n",
    "    print(f'metadata: {metadata}\\n')\n",
    "    print(f'Only states with at least {cutoff} visits are considered.')\n",
    "    print(f'Sorted in desc orderd of visits. \\nAverage hitrate: {hitrate_filtered:0.3}')\n",
    "    # df1"
   ]
  },
  {
   "cell_type": "markdown",
   "metadata": {},
   "source": [
    "## Synthetic"
   ]
  },
  {
   "cell_type": "markdown",
   "metadata": {},
   "source": [
    "### Repeated requests 1 to 50 "
   ]
  },
  {
   "cell_type": "code",
   "execution_count": 13,
   "metadata": {},
   "outputs": [
    {
     "name": "stdout",
     "output_type": "stream",
     "text": [
      "metadata: {'users': 1, 'caches': 1, 'number of files': 50, 'cache size': 5, 'time': 50000, 'dataset': 'synthetic', 'col': 3, 'algo': 'iplc_multiple_fsm', 'hitrate_leadcache': 0.09896, 'hitrate_iplc': 0.9195}\n",
      "\n",
      "Only states with at least 200 visits are considered.\n",
      "Sorted in desc orderd of visits. \n",
      "Average hitrate: 0.0796\n"
     ]
    }
   ],
   "source": [
    "with pd.HDFStore('data/synthetic/synthetic_col3_iplc_multifsm_u1_c1_t50000_d1_f50_11_03_11_11_47.h5') as storage:\n",
    "    df = storage['df']\n",
    "    metadata = storage.get_storer('df').attrs.metadata\n",
    "    _ = metadata.pop('network_graph')\n",
    "\n",
    "    cutoff=200\n",
    "    df1 = df.drop(df[df['visits'] < cutoff].index)\n",
    "    hitrate_filtered=df1['hits'].sum()/df1['visits'].sum()\n",
    "    df1.sort_values(by=['fsm','visits'], inplace=True, ascending=[True,False])\n",
    "\n",
    "    print(f'metadata: {metadata}\\n')\n",
    "    print(f'Only states with at least {cutoff} visits are considered.')\n",
    "    print(f'Sorted in desc orderd of visits. \\nAverage hitrate: {hitrate_filtered:0.3}')\n",
    "    # df"
   ]
  },
  {
   "cell_type": "markdown",
   "metadata": {},
   "source": [
    "## Ratings 1M"
   ]
  },
  {
   "cell_type": "markdown",
   "metadata": {},
   "source": [
    "### \n",
    "<font size=\"3\">\n",
    "\n",
    "| dataset | users | cache |\n",
    "| ------- | ----- | ----- |\n",
    "| 0       | 1     | 1     |"
   ]
  },
  {
   "cell_type": "code",
   "execution_count": 4,
   "metadata": {},
   "outputs": [
    {
     "name": "stdout",
     "output_type": "stream",
     "text": [
      "metadata: {'users': 1, 'caches': 1, 'number of files': 300, 'cache size': 30, 'time': 82070, 'dataset': 'ratings', 'algo': 'iplc_multiple_fsm', 'hitrate_leadcache': 0.4429998781527964, 'hitrate_iplc': 0.3946143536005849}\n",
      "\n",
      "Only states with at least 200 visits are considered.\n",
      "Sorted in desc orderd of visits. \n",
      "Average hitrate: 0.479\n"
     ]
    }
   ],
   "source": [
    "with pd.HDFStore('data/ratings/ratings_col0_iplc_multifsm_u1_c1_t82070_d1_f300_10_31_19_35_42.h5') as storage:\n",
    "    df = storage['df']\n",
    "    metadata = storage.get_storer('df').attrs.metadata\n",
    "    _ = metadata.pop('network_graph')\n",
    "\n",
    "    cutoff=200\n",
    "    df1 = df.drop(df[df['visits'] < cutoff].index)\n",
    "    hitrate_filtered=df1['hits'].sum()/df1['visits'].sum()\n",
    "    df1.sort_values(by=['fsm','visits'], inplace=True, ascending=[True,False])\n",
    "\n",
    "    print(f'metadata: {metadata}\\n')\n",
    "    print(f'Only states with at least {cutoff} visits are considered.')\n",
    "    print(f'Sorted in desc orderd of visits. \\nAverage hitrate: {hitrate_filtered:0.3}')\n",
    "    # df1"
   ]
  },
  {
   "cell_type": "code",
   "execution_count": 5,
   "metadata": {},
   "outputs": [
    {
     "name": "stdout",
     "output_type": "stream",
     "text": [
      "metadata: {'users': 1, 'caches': 1, 'number of files': 300, 'cache size': 30, 'time': 82070, 'dataset': 'ratings', 'col': 0, 'algo': 'markov_online', 'hitrate_leadcache': 0, 'hitrate': 0.5629043853342919}\n",
      "\n",
      "Only states with at least 50 visits are considered.\n",
      "Sorted in desc orderd of visits. \n",
      "Average hitrate: 0.571\n"
     ]
    }
   ],
   "source": [
    "with pd.HDFStore('data/ratings/ratings_col0_markov_online_multifsm_u1_c1_t82070_d1_f300_11_04_23_08_19.h5') as storage:\n",
    "    df = storage['df']\n",
    "    metadata = storage.get_storer('df').attrs.metadata\n",
    "    # metadata['algo']='markov_online'\n",
    "    # storage.get_storer('df').attrs.metadata=metadata\n",
    "    _ = metadata.pop('network_graph')\n",
    "\n",
    "    cutoff=50\n",
    "    df1 = df.drop(df[df['visits'] < cutoff].index)\n",
    "    hitrate_filtered=df1['hits'].sum()/df1['visits'].sum()\n",
    "    df1.sort_values(by=['fsm','visits'], inplace=True, ascending=[True,False])\n",
    "\n",
    "    print(f'metadata: {metadata}\\n')\n",
    "    print(f'Only states with at least {cutoff} visits are considered.')\n",
    "    print(f'Sorted in desc orderd of visits. \\nAverage hitrate: {hitrate_filtered:0.3}')\n",
    "    # df1"
   ]
  },
  {
   "cell_type": "code",
   "execution_count": 5,
   "metadata": {},
   "outputs": [
    {
     "name": "stdout",
     "output_type": "stream",
     "text": [
      "metadata: {'users': 1, 'caches': 1, 'number of files': 300, 'cache size': 30, 'time': 82070, 'dataset': 'ratings', 'col': 0, 'algo': 'markov_offline', 'hitrate_leadcache': 0, 'hitrate_iplc': 0.7003911438215117}\n",
      "\n",
      "Only states with at least 200 visits are considered.\n",
      "Sorted in desc orderd of visits. \n",
      "Average hitrate: 0.695\n"
     ]
    }
   ],
   "source": [
    "with pd.HDFStore('data/ratings/ratings_col0_markovoffline_multifsm_u1_c1_t82070_d1_f300_11_02_15_30_33.h5') as storage:\n",
    "    df = storage['df']\n",
    "    metadata = storage.get_storer('df').attrs.metadata\n",
    "    _ = metadata.pop('network_graph')\n",
    "\n",
    "    cutoff=200\n",
    "    df1 = df.drop(df[df['visits'] < cutoff].index)\n",
    "    hitrate_filtered=df1['hits'].sum()/df1['visits'].sum()\n",
    "    df1.sort_values(by=['fsm','visits'], inplace=True, ascending=[True,False])\n",
    "\n",
    "    print(f'metadata: {metadata}\\n')\n",
    "    print(f'Only states with at least {cutoff} visits are considered.')\n",
    "    print(f'Sorted in desc orderd of visits. \\nAverage hitrate: {hitrate_filtered:0.3}')\n",
    "    # df1"
   ]
  },
  {
   "cell_type": "markdown",
   "metadata": {},
   "source": [
    "###\n",
    "<font size=\"3\">\n",
    "\n",
    "| dataset | users | cache |\n",
    "| ------- | ----- | ----- |\n",
    "| 1       | 1     | 1     |"
   ]
  },
  {
   "cell_type": "code",
   "execution_count": 4,
   "metadata": {},
   "outputs": [
    {
     "name": "stdout",
     "output_type": "stream",
     "text": [
      "metadata: {'users': 1, 'caches': 1, 'number of files': 300, 'cache size': 30, 'time': 50000, 'dataset': 'ratings', 'col': 1, 'algo': 'iplc_multiple_fsm', 'hitrate_leadcache': 0.47458, 'hitrate_iplc': 0.3819}\n",
      "\n",
      "Only states with at least 200 visits are considered.\n",
      "Sorted in desc orderd of visits. \n",
      "Average hitrate: 0.477\n"
     ]
    }
   ],
   "source": [
    "with pd.HDFStore('data/ratings/ratings_col1_iplc_multifsm_u1_c1_t50000_d1_f300_10_31_20_03_40.h5') as storage:\n",
    "    df = storage['df']\n",
    "    metadata = storage.get_storer('df').attrs.metadata\n",
    "    _ = metadata.pop('network_graph')\n",
    "\n",
    "    cutoff=200\n",
    "    df1 = df.drop(df[df['visits'] < cutoff].index)\n",
    "    hitrate_filtered=df1['hits'].sum()/df1['visits'].sum()\n",
    "    df1.sort_values(by=['fsm','visits'], inplace=True, ascending=[True,False])\n",
    "\n",
    "    print(f'metadata: {metadata}\\n')\n",
    "    print(f'Only states with at least {cutoff} visits are considered.')\n",
    "    print(f'Sorted in desc orderd of visits. \\nAverage hitrate: {hitrate_filtered:0.3}')\n",
    "    # df1"
   ]
  },
  {
   "cell_type": "code",
   "execution_count": 7,
   "metadata": {},
   "outputs": [
    {
     "name": "stdout",
     "output_type": "stream",
     "text": [
      "metadata: {'users': 1, 'caches': 1, 'number of files': 300, 'cache size': 30, 'time': 50000, 'dataset': 'ratings', 'col': 1, 'algo': 'markov_online', 'hitrate_leadcache': 0, 'hitrate_iplc': 0.5479309586191724}\n",
      "\n",
      "Only states with at least 200 visits are considered.\n",
      "Sorted in desc orderd of visits. \n",
      "Average hitrate: 0.619\n"
     ]
    }
   ],
   "source": [
    "with pd.HDFStore('data/ratings/ratings_col1_markov_online_multifsm_u1_c1_t50000_d1_f300_11_03_02_29_43.h5') as storage:\n",
    "    df = storage['df']\n",
    "    metadata = storage.get_storer('df').attrs.metadata\n",
    "    # metadata['algo']='markov_online'\n",
    "    # storage.get_storer('df').attrs.metadata=metadata\n",
    "    _ = metadata.pop('network_graph')\n",
    "\n",
    "    cutoff=200\n",
    "    df1 = df.drop(df[df['visits'] < cutoff].index)\n",
    "    hitrate_filtered=df1['hits'].sum()/df1['visits'].sum()\n",
    "    df1.sort_values(by=['fsm','visits'], inplace=True, ascending=[True,False])\n",
    "\n",
    "    print(f'metadata: {metadata}\\n')\n",
    "    print(f'Only states with at least {cutoff} visits are considered.')\n",
    "    print(f'Sorted in desc orderd of visits. \\nAverage hitrate: {hitrate_filtered:0.3}')\n",
    "    # df1"
   ]
  },
  {
   "cell_type": "code",
   "execution_count": 24,
   "metadata": {},
   "outputs": [
    {
     "name": "stdout",
     "output_type": "stream",
     "text": [
      "metadata: {'users': 1, 'caches': 1, 'number of files': 300, 'cache size': 30, 'time': 50000, 'dataset': 'ratings', 'col': 1, 'algo': 'markov_offline', 'hitrate_leadcache': 0, 'hitrate': 0.7354747094941899}\n",
      "\n",
      "Only states with at least 200 visits are considered.\n",
      "Sorted in desc orderd of visits. \n",
      "Average hitrate: 0.724\n"
     ]
    }
   ],
   "source": [
    "with pd.HDFStore('data/ratings/ratings_col1_markov_offline_multifsm_u1_c1_t50000_d1_f300_11_04_23_24_00.h5') as storage:\n",
    "    df = storage['df']\n",
    "    metadata = storage.get_storer('df').attrs.metadata\n",
    "    # metadata['algo']='markov_online'\n",
    "    # storage.get_storer('df').attrs.metadata=metadata\n",
    "    _ = metadata.pop('network_graph')\n",
    "\n",
    "    cutoff=200\n",
    "    df1 = df.drop(df[df['visits'] < cutoff].index)\n",
    "    hitrate_filtered=df1['hits'].sum()/df1['visits'].sum()\n",
    "    df1.sort_values(by=['fsm','visits'], inplace=True, ascending=[True,False])\n",
    "\n",
    "    print(f'metadata: {metadata}\\n')\n",
    "    print(f'Only states with at least {cutoff} visits are considered.')\n",
    "    print(f'Sorted in desc orderd of visits. \\nAverage hitrate: {hitrate_filtered:0.3}')\n",
    "    # df1"
   ]
  },
  {
   "cell_type": "markdown",
   "metadata": {},
   "source": [
    "###\n",
    "<font size=\"3\">\n",
    "\n",
    "| dataset | users | cache |\n",
    "| ------- | ----- | ----- |\n",
    "| 2       | 1     | 1     |"
   ]
  },
  {
   "cell_type": "code",
   "execution_count": 5,
   "metadata": {},
   "outputs": [
    {
     "name": "stdout",
     "output_type": "stream",
     "text": [
      "metadata: {'users': 1, 'caches': 1, 'number of files': 300, 'cache size': 30, 'time': 50000, 'dataset': 'ratings', 'col': 2, 'algo': 'iplc_multiple_fsm', 'hitrate_leadcache': 0.49248, 'hitrate_iplc': 0.3894}\n",
      "\n",
      "Only states with at least 200 visits are considered.\n",
      "Sorted in desc orderd of visits. \n",
      "Average hitrate: 0.502\n"
     ]
    }
   ],
   "source": [
    "with pd.HDFStore('data/ratings/ratings_col2_iplc_multifsm_u1_c1_t50000_d1_f300_10_31_20_28_04.h5') as storage:\n",
    "    df = storage['df']\n",
    "    metadata = storage.get_storer('df').attrs.metadata\n",
    "    _ = metadata.pop('network_graph')\n",
    "\n",
    "    cutoff=200\n",
    "    df1 = df.drop(df[df['visits'] < cutoff].index)\n",
    "    hitrate_filtered=df1['hits'].sum()/df1['visits'].sum()\n",
    "    df1.sort_values(by=['fsm','visits'], inplace=True, ascending=[True,False])\n",
    "\n",
    "    print(f'metadata: {metadata}\\n')\n",
    "    print(f'Only states with at least {cutoff} visits are considered.')\n",
    "    print(f'Sorted in desc orderd of visits. \\nAverage hitrate: {hitrate_filtered:0.3}')\n",
    "    # df1"
   ]
  },
  {
   "cell_type": "code",
   "execution_count": 28,
   "metadata": {},
   "outputs": [
    {
     "name": "stdout",
     "output_type": "stream",
     "text": [
      "metadata: {'users': 1, 'caches': 1, 'number of files': 300, 'cache size': 30, 'time': 50000, 'dataset': 'ratings', 'col': 2, 'algo': 'markov_online', 'hitrate_leadcache': 0, 'hitrate': 0.5787715754315086}\n",
      "\n",
      "Only states with at least 200 visits are considered.\n",
      "Sorted in desc orderd of visits. \n",
      "Average hitrate: 0.628\n"
     ]
    }
   ],
   "source": [
    "with pd.HDFStore('data/ratings/ratings_col2_markov_online_multifsm_u1_c1_t50000_d1_f300_11_04_23_48_58.h5') as storage:\n",
    "    df = storage['df']\n",
    "    metadata = storage.get_storer('df').attrs.metadata\n",
    "    _ = metadata.pop('network_graph')\n",
    "\n",
    "    cutoff=200\n",
    "    df1 = df.drop(df[df['visits'] < cutoff].index)\n",
    "    hitrate_filtered=df1['hits'].sum()/df1['visits'].sum()\n",
    "    df1.sort_values(by=['fsm','visits'], inplace=True, ascending=[True,False])\n",
    "\n",
    "    print(f'metadata: {metadata}\\n')\n",
    "    print(f'Only states with at least {cutoff} visits are considered.')\n",
    "    print(f'Sorted in desc orderd of visits. \\nAverage hitrate: {hitrate_filtered:0.3}')\n",
    "    # df1"
   ]
  },
  {
   "cell_type": "code",
   "execution_count": 29,
   "metadata": {},
   "outputs": [
    {
     "name": "stdout",
     "output_type": "stream",
     "text": [
      "metadata: {'users': 1, 'caches': 1, 'number of files': 300, 'cache size': 30, 'time': 50000, 'dataset': 'ratings', 'col': 2, 'algo': 'markov_offline', 'hitrate_leadcache': 0, 'hitrate': 0.7434548690973819}\n",
      "\n",
      "Only states with at least 200 visits are considered.\n",
      "Sorted in desc orderd of visits. \n",
      "Average hitrate: 0.73\n"
     ]
    }
   ],
   "source": [
    "with pd.HDFStore('data/ratings/ratings_col2_markov_offline_multifsm_u1_c1_t50000_d1_f300_11_05_00_05_11.h5') as storage:\n",
    "    df = storage['df']\n",
    "    metadata = storage.get_storer('df').attrs.metadata\n",
    "    _ = metadata.pop('network_graph')\n",
    "\n",
    "    cutoff=200\n",
    "    df1 = df.drop(df[df['visits'] < cutoff].index)\n",
    "    hitrate_filtered=df1['hits'].sum()/df1['visits'].sum()\n",
    "    df1.sort_values(by=['fsm','visits'], inplace=True, ascending=[True,False])\n",
    "\n",
    "    print(f'metadata: {metadata}\\n')\n",
    "    print(f'Only states with at least {cutoff} visits are considered.')\n",
    "    print(f'Sorted in desc orderd of visits. \\nAverage hitrate: {hitrate_filtered:0.3}')\n",
    "    # df1"
   ]
  },
  {
   "cell_type": "markdown",
   "metadata": {},
   "source": [
    "###\n",
    "<font size=\"3\">\n",
    "\n",
    "| dataset | users | cache |\n",
    "| ------- | ----- | ----- |\n",
    "| 3       | 10    | 4     |"
   ]
  },
  {
   "cell_type": "code",
   "execution_count": 6,
   "metadata": {},
   "outputs": [
    {
     "name": "stdout",
     "output_type": "stream",
     "text": [
      "metadata: {'users': 10, 'caches': 4, 'number of files': 300, 'cache size': 30, 'time': 5000, 'dataset': 'ratings', 'col': 3, 'algo': 'iplc_multiple_fsm', 'hitrate_leadcache': 0.47992, 'hitrate_iplc': 0.4806}\n",
      "\n",
      "Only states with at least 50 visits are considered.\n",
      "Sorted in desc orderd of visits. \n",
      "Average hitrate: 0.508\n"
     ]
    }
   ],
   "source": [
    "with pd.HDFStore('data/ratings/ratings_col3_iplc_multifsm_u10_c4_t5000_d6_f300_11_01_14_51_15.h5') as storage:\n",
    "    df = storage['df']\n",
    "    metadata = storage.get_storer('df').attrs.metadata\n",
    "    _ = metadata.pop('network_graph')\n",
    "\n",
    "    cutoff=50\n",
    "    df1 = df.drop(df[df['visits'] < cutoff].index)\n",
    "    hitrate_filtered=df1['hits'].sum()/df1['visits'].sum()\n",
    "    df1.sort_values(by=['fsm','visits'], inplace=True, ascending=[True,False])\n",
    "\n",
    "    print(f'metadata: {metadata}\\n')\n",
    "    print(f'Only states with at least {cutoff} visits are considered.')\n",
    "    print(f'Sorted in desc orderd of visits. \\nAverage hitrate: {hitrate_filtered:0.3}')\n",
    "    # df1"
   ]
  },
  {
   "cell_type": "code",
   "execution_count": 25,
   "metadata": {},
   "outputs": [
    {
     "name": "stdout",
     "output_type": "stream",
     "text": [
      "metadata: {'users': 10, 'caches': 4, 'number of files': 300, 'cache size': 30, 'time': 5000, 'dataset': 'ratings', 'col': 3, 'algo': 'markov_online', 'hitrate_leadcache': 0, 'hitrate_iplc': 0.4859771954390878}\n",
      "\n",
      "Only states with at least 50 visits are considered.\n",
      "Sorted in desc orderd of visits. \n",
      "Average hitrate: 0.593\n"
     ]
    }
   ],
   "source": [
    "with pd.HDFStore('data/ratings/ratings_col3_markov_online_multifsm_u10_c4_t5000_d6_f300_11_03_10_43_55.h5') as storage:\n",
    "    df = storage['df']\n",
    "    metadata = storage.get_storer('df').attrs.metadata\n",
    "    # metadata['algo']='markov_online'\n",
    "    # storage.get_storer('df').attrs.metadata=metadata\n",
    "    _ = metadata.pop('network_graph')\n",
    "\n",
    "    cutoff=50\n",
    "    df1 = df.drop(df[df['visits'] < cutoff].index)\n",
    "    hitrate_filtered=df1['hits'].sum()/df1['visits'].sum()\n",
    "    df1.sort_values(by=['fsm','visits'], inplace=True, ascending=[True,False])\n",
    "\n",
    "    print(f'metadata: {metadata}\\n')\n",
    "    print(f'Only states with at least {cutoff} visits are considered.')\n",
    "    print(f'Sorted in desc orderd of visits. \\nAverage hitrate: {hitrate_filtered:0.3}')\n",
    "    # df1"
   ]
  },
  {
   "cell_type": "code",
   "execution_count": 26,
   "metadata": {},
   "outputs": [
    {
     "name": "stdout",
     "output_type": "stream",
     "text": [
      "metadata: {'users': 10, 'caches': 4, 'number of files': 300, 'cache size': 30, 'time': 5000, 'dataset': 'ratings', 'col': 3, 'algo': 'markov_offline', 'hitrate_leadcache': 0, 'hitrate_iplc': 0.865513102620524}\n",
      "\n",
      "Only states with at least 50 visits are considered.\n",
      "Sorted in desc orderd of visits. \n",
      "Average hitrate: 0.875\n"
     ]
    }
   ],
   "source": [
    "with pd.HDFStore('data/ratings/ratings_col3_markovoffline_multifsm_u10_c4_t5000_d6_f300_11_02_19_32_56.h5') as storage:\n",
    "    df = storage['df']\n",
    "    metadata = storage.get_storer('df').attrs.metadata\n",
    "    # metadata['algo']='markov_offline'\n",
    "    # storage.get_storer('df').attrs.metadata=metadata\n",
    "    _ = metadata.pop('network_graph')\n",
    "\n",
    "    cutoff=50\n",
    "    df1 = df.drop(df[df['visits'] < cutoff].index)\n",
    "    hitrate_filtered=df1['hits'].sum()/df1['visits'].sum()\n",
    "    df1.sort_values(by=['fsm','visits'], inplace=True, ascending=[True,False])\n",
    "\n",
    "    print(f'metadata: {metadata}\\n')\n",
    "    print(f'Only states with at least {cutoff} visits are considered.')\n",
    "    print(f'Sorted in desc orderd of visits. \\nAverage hitrate: {hitrate_filtered:0.3}')"
   ]
  },
  {
   "cell_type": "markdown",
   "metadata": {},
   "source": [
    "###\n",
    "<font size=\"3\">\n",
    "\n",
    "| dataset | users | cache |\n",
    "| ------- | ----- | ----- |\n",
    "| 4       | 15    | 7     |"
   ]
  },
  {
   "cell_type": "code",
   "execution_count": 7,
   "metadata": {},
   "outputs": [
    {
     "name": "stdout",
     "output_type": "stream",
     "text": [
      "metadata: {'users': 15, 'caches': 7, 'number of files': 300, 'cache size': 30, 'time': 5000, 'dataset': 'ratings', 'col': 4, 'algo': 'iplc_multiple_fsm', 'hitrate_leadcache': 0.60236, 'hitrate_iplc': 0.5931733333333333}\n",
      "\n",
      "Only states with at least 50 visits are considered.\n",
      "Sorted in desc orderd of visits. \n",
      "Average hitrate: 0.616\n"
     ]
    }
   ],
   "source": [
    "with pd.HDFStore('data/ratings/ratings_col4_iplc_multifsm_u15_c7_t5000_d8_f300_11_01_17_44_49.h5') as storage:\n",
    "    df = storage['df']\n",
    "    metadata = storage.get_storer('df').attrs.metadata\n",
    "    _ = metadata.pop('network_graph')\n",
    "\n",
    "    cutoff=50\n",
    "    df1 = df.drop(df[df['visits'] < cutoff].index)\n",
    "    hitrate_filtered=df1['hits'].sum()/df1['visits'].sum()\n",
    "    df1.sort_values(by=['fsm','visits'], inplace=True, ascending=[True,False])\n",
    "\n",
    "    print(f'metadata: {metadata}\\n')\n",
    "    print(f'Only states with at least {cutoff} visits are considered.')\n",
    "    print(f'Sorted in desc orderd of visits. \\nAverage hitrate: {hitrate_filtered:0.3}')\n",
    "    # df1"
   ]
  },
  {
   "cell_type": "code",
   "execution_count": 27,
   "metadata": {},
   "outputs": [
    {
     "name": "stdout",
     "output_type": "stream",
     "text": [
      "metadata: {'users': 15, 'caches': 7, 'number of files': 300, 'cache size': 30, 'time': 5000, 'dataset': 'ratings', 'col': 4, 'algo': 'markov_online', 'hitrate_leadcache': 0, 'hitrate_iplc': 0.6400746816029873}\n",
      "\n",
      "Only states with at least 50 visits are considered.\n",
      "Sorted in desc orderd of visits. \n",
      "Average hitrate: 0.72\n"
     ]
    }
   ],
   "source": [
    "with pd.HDFStore('data/ratings/ratings_col4_markov_online_multifsm_u15_c7_t5000_d8_f300_11_03_04_02_09.h5') as storage:\n",
    "    df = storage['df']\n",
    "    metadata = storage.get_storer('df').attrs.metadata\n",
    "    # metadata['algo']='markov_online'\n",
    "    # storage.get_storer('df').attrs.metadata=metadata\n",
    "    _ = metadata.pop('network_graph')\n",
    "\n",
    "    cutoff=50\n",
    "    df1 = df.drop(df[df['visits'] < cutoff].index)\n",
    "    hitrate_filtered=df1['hits'].sum()/df1['visits'].sum()\n",
    "    df1.sort_values(by=['fsm','visits'], inplace=True, ascending=[True,False])\n",
    "\n",
    "    print(f'metadata: {metadata}\\n')\n",
    "    print(f'Only states with at least {cutoff} visits are considered.')\n",
    "    print(f'Sorted in desc orderd of visits. \\nAverage hitrate: {hitrate_filtered:0.3}')\n",
    "    # df1"
   ]
  },
  {
   "cell_type": "code",
   "execution_count": 30,
   "metadata": {},
   "outputs": [
    {
     "name": "stdout",
     "output_type": "stream",
     "text": [
      "metadata: {'users': 10, 'caches': 4, 'number of files': 300, 'cache size': 30, 'time': 5000, 'dataset': 'ratings', 'col': 4, 'algo': 'markov_offline', 'hitrate_leadcache': 0, 'hitrate': 0.8766153230646129}\n",
      "\n",
      "Only states with at least 50 visits are considered.\n",
      "Sorted in desc orderd of visits. \n",
      "Average hitrate: 0.889\n"
     ]
    }
   ],
   "source": [
    "with pd.HDFStore('data/ratings/ratings_col4_markov_offline_multifsm_u10_c4_t5000_d6_f300_11_05_00_36_06.h5') as storage:\n",
    "    df = storage['df']\n",
    "    metadata = storage.get_storer('df').attrs.metadata\n",
    "    # metadata['algo']='markov_online'\n",
    "    # storage.get_storer('df').attrs.metadata=metadata\n",
    "    _ = metadata.pop('network_graph')\n",
    "\n",
    "    cutoff=50\n",
    "    df1 = df.drop(df[df['visits'] < cutoff].index)\n",
    "    hitrate_filtered=df1['hits'].sum()/df1['visits'].sum()\n",
    "    df1.sort_values(by=['fsm','visits'], inplace=True, ascending=[True,False])\n",
    "\n",
    "    print(f'metadata: {metadata}\\n')\n",
    "    print(f'Only states with at least {cutoff} visits are considered.')\n",
    "    print(f'Sorted in desc orderd of visits. \\nAverage hitrate: {hitrate_filtered:0.3}')\n",
    "    # df1"
   ]
  }
 ],
 "metadata": {
  "interpreter": {
   "hash": "ccea24c44f962f1a297b9d5136c4a88ea9f80cd6183cc180206da41d7855a428"
  },
  "kernelspec": {
   "display_name": "Python 3.8.11 64-bit ('base': conda)",
   "name": "python3"
  },
  "language_info": {
   "codemirror_mode": {
    "name": "ipython",
    "version": 3
   },
   "file_extension": ".py",
   "mimetype": "text/x-python",
   "name": "python",
   "nbconvert_exporter": "python",
   "pygments_lexer": "ipython3",
   "version": "3.8.11"
  },
  "orig_nbformat": 4
 },
 "nbformat": 4,
 "nbformat_minor": 2
}
