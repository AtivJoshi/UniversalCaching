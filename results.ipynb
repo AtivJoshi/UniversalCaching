{
 "cells": [
  {
   "cell_type": "markdown",
   "metadata": {},
   "source": [
    "## Hitrate roughly decreases as the number of visits decrease. Majority of the variance occur when number of visits is small."
   ]
  },
  {
   "cell_type": "code",
   "execution_count": 74,
   "metadata": {},
   "outputs": [],
   "source": [
    "import pandas as pd\n",
    "from IPython.core.interactiveshell import InteractiveShell\n",
    "InteractiveShell.ast_node_interactivity = \"all\"\n",
    "pd.set_option('display.max_rows', None)\n",
    "\n",
    "from IPython.core.display import display, HTML\n",
    "\n",
    "def display_side_by_side(dfs:list, captions:list):\n",
    "    \"\"\"Display tables side by side to save vertical space\n",
    "    Input:\n",
    "        dfs: list of pandas.DataFrame\n",
    "        captions: list of table captions\n",
    "    \"\"\"\n",
    "    output = \"\"\n",
    "    combined = dict(zip(captions, dfs))\n",
    "    for caption, df in combined.items():\n",
    "        output += df.style.set_table_attributes(\"style='display:inline'\").set_caption(caption)._repr_html_()\n",
    "        output += \"\\xa0\\xa0\\xa0\"\n",
    "    display(HTML(output))"
   ]
  },
  {
   "cell_type": "code",
   "execution_count": 54,
   "metadata": {},
   "outputs": [
    {
     "name": "stdout",
     "output_type": "stream",
     "text": [
      "metadata: {'users': 1, 'caches': 1, 'number of files': 1000, 'cache size': 100, 'time': 10000, 'dataset': 'cmu', 'algo': 'iplc_multiple_fsm', 'hitrate_leadcache': 0.7282, 'hitrate_iplc': 0.586}\n",
      "\n",
      "Only states with at least 50 visits are considered.\n",
      "Sorted in desc orderd of visits. Average hitrate: 0.672\n"
     ]
    },
    {
     "data": {
      "text/html": [
       "<div>\n",
       "<style scoped>\n",
       "    .dataframe tbody tr th:only-of-type {\n",
       "        vertical-align: middle;\n",
       "    }\n",
       "\n",
       "    .dataframe tbody tr th {\n",
       "        vertical-align: top;\n",
       "    }\n",
       "\n",
       "    .dataframe thead th {\n",
       "        text-align: right;\n",
       "    }\n",
       "</style>\n",
       "<table border=\"1\" class=\"dataframe\">\n",
       "  <thead>\n",
       "    <tr style=\"text-align: right;\">\n",
       "      <th></th>\n",
       "      <th></th>\n",
       "      <th>visits</th>\n",
       "      <th>hits</th>\n",
       "      <th>hitrate</th>\n",
       "    </tr>\n",
       "    <tr>\n",
       "      <th>fsm</th>\n",
       "      <th>state</th>\n",
       "      <th></th>\n",
       "      <th></th>\n",
       "      <th></th>\n",
       "    </tr>\n",
       "  </thead>\n",
       "  <tbody>\n",
       "    <tr>\n",
       "      <th rowspan=\"9\" valign=\"top\">0</th>\n",
       "      <th>epsilon</th>\n",
       "      <td>3565</td>\n",
       "      <td>2458</td>\n",
       "      <td>0.689481</td>\n",
       "    </tr>\n",
       "    <tr>\n",
       "      <th>epsilon:853</th>\n",
       "      <td>1816</td>\n",
       "      <td>1241</td>\n",
       "      <td>0.683370</td>\n",
       "    </tr>\n",
       "    <tr>\n",
       "      <th>epsilon:853:853</th>\n",
       "      <td>941</td>\n",
       "      <td>596</td>\n",
       "      <td>0.633369</td>\n",
       "    </tr>\n",
       "    <tr>\n",
       "      <th>epsilon:853:853:853</th>\n",
       "      <td>457</td>\n",
       "      <td>298</td>\n",
       "      <td>0.652079</td>\n",
       "    </tr>\n",
       "    <tr>\n",
       "      <th>epsilon:853:853:853:853</th>\n",
       "      <td>238</td>\n",
       "      <td>148</td>\n",
       "      <td>0.621849</td>\n",
       "    </tr>\n",
       "    <tr>\n",
       "      <th>epsilon:853:853:853:853:853</th>\n",
       "      <td>118</td>\n",
       "      <td>70</td>\n",
       "      <td>0.593220</td>\n",
       "    </tr>\n",
       "    <tr>\n",
       "      <th>epsilon:493</th>\n",
       "      <td>77</td>\n",
       "      <td>50</td>\n",
       "      <td>0.649351</td>\n",
       "    </tr>\n",
       "    <tr>\n",
       "      <th>epsilon:853:853:853:853:853:853</th>\n",
       "      <td>60</td>\n",
       "      <td>32</td>\n",
       "      <td>0.533333</td>\n",
       "    </tr>\n",
       "    <tr>\n",
       "      <th>epsilon:127</th>\n",
       "      <td>57</td>\n",
       "      <td>32</td>\n",
       "      <td>0.561404</td>\n",
       "    </tr>\n",
       "  </tbody>\n",
       "</table>\n",
       "</div>"
      ],
      "text/plain": [
       "                                     visits  hits   hitrate\n",
       "fsm state                                                  \n",
       "0   epsilon                            3565  2458  0.689481\n",
       "    epsilon:853                        1816  1241  0.683370\n",
       "    epsilon:853:853                     941   596  0.633369\n",
       "    epsilon:853:853:853                 457   298  0.652079\n",
       "    epsilon:853:853:853:853             238   148  0.621849\n",
       "    epsilon:853:853:853:853:853         118    70  0.593220\n",
       "    epsilon:493                          77    50  0.649351\n",
       "    epsilon:853:853:853:853:853:853      60    32  0.533333\n",
       "    epsilon:127                          57    32  0.561404"
      ]
     },
     "execution_count": 54,
     "metadata": {},
     "output_type": "execute_result"
    }
   ],
   "source": []
  },
  {
   "cell_type": "code",
   "execution_count": 78,
   "metadata": {},
   "outputs": [
    {
     "name": "stdout",
     "output_type": "stream",
     "text": [
      "metadata: {'users': 15, 'caches': 7, 'number of files': 300, 'cache size': 30, 'time': 1546, 'dataset': 'cmu', 'algo': 'iplc_multiple_fsm', 'hitrate_leadcache': 0.6432082794307892, 'hitrate_iplc': 0.6057783527382492}\n",
      "\n",
      "Only states with at least 50 visits are considered.\n",
      "Sorted in desc orderd of visits. \n",
      "Average hitrate: 0.624\n"
     ]
    },
    {
     "data": {
      "text/html": [
       "<style  type=\"text/css\" >\n",
       "</style><table id=\"T_f0093_\" style='display:inline'><caption>100 adsf</caption><thead>    <tr>        <th class=\"blank\" ></th>        <th class=\"blank level0\" ></th>        <th class=\"col_heading level0 col0\" >visits</th>        <th class=\"col_heading level0 col1\" >hits</th>        <th class=\"col_heading level0 col2\" >hitrate</th>    </tr>    <tr>        <th class=\"index_name level0\" >fsm</th>        <th class=\"index_name level1\" >state</th>        <th class=\"blank\" ></th>        <th class=\"blank\" ></th>        <th class=\"blank\" ></th>    </tr></thead><tbody>\n",
       "                <tr>\n",
       "                        <th id=\"T_f0093_level0_row0\" class=\"row_heading level0 row0\" rowspan=\"3\">14</th>\n",
       "                        <th id=\"T_f0093_level1_row0\" class=\"row_heading level1 row0\" >epsilon</th>\n",
       "                        <td id=\"T_f0093_row0_col0\" class=\"data row0 col0\" >785</td>\n",
       "                        <td id=\"T_f0093_row0_col1\" class=\"data row0 col1\" >528</td>\n",
       "                        <td id=\"T_f0093_row0_col2\" class=\"data row0 col2\" >0.672611</td>\n",
       "            </tr>\n",
       "            <tr>\n",
       "                                <th id=\"T_f0093_level1_row1\" class=\"row_heading level1 row1\" >epsilon:85</th>\n",
       "                        <td id=\"T_f0093_row1_col0\" class=\"data row1 col0\" >94</td>\n",
       "                        <td id=\"T_f0093_row1_col1\" class=\"data row1 col1\" >58</td>\n",
       "                        <td id=\"T_f0093_row1_col2\" class=\"data row1 col2\" >0.617021</td>\n",
       "            </tr>\n",
       "            <tr>\n",
       "                                <th id=\"T_f0093_level1_row2\" class=\"row_heading level1 row2\" >epsilon:127</th>\n",
       "                        <td id=\"T_f0093_row2_col0\" class=\"data row2 col0\" >63</td>\n",
       "                        <td id=\"T_f0093_row2_col1\" class=\"data row2 col1\" >43</td>\n",
       "                        <td id=\"T_f0093_row2_col2\" class=\"data row2 col2\" >0.682540</td>\n",
       "            </tr>\n",
       "    </tbody></table>   "
      ],
      "text/plain": [
       "<IPython.core.display.HTML object>"
      ]
     },
     "metadata": {},
     "output_type": "display_data"
    }
   ],
   "source": [
    "with pd.HDFStore('data/results/cmu_iplc_multifsm_u15_c7_t1546_d8_f300_10_23_11_26_26.h5') as storage:\n",
    "    df = storage['df']\n",
    "    metadata = storage.get_storer('df').attrs.metadata\n",
    "    _ = metadata.pop('network_graph')\n",
    "    _ = metadata.pop('data_description')\n",
    "\n",
    "    cutoff=50\n",
    "    df1 = df.drop(df[df['visits'] < cutoff].index)\n",
    "    hitrate_filtered=df1['hits'].sum()/df1['visits'].sum()\n",
    "    df1.sort_values(by=['fsm','visits'], inplace=True, ascending=[True,False])\n",
    "\n",
    "    print(f'metadata: {metadata}\\n')\n",
    "    print(f'Only states with at least {cutoff} visits are considered.')\n",
    "    print(f'Sorted in desc orderd of visits. \\nAverage hitrate: {hitrate_filtered:0.3}')\n",
    "\n",
    "    dfs:list=[]\n",
    "    comments:list=[]\n",
    "    for i in range(metadata['users']):\n",
    "        dfs.append(df1.loc[[i]])\n",
    "        comments.append('100 adsf')\n",
    "    display_side_by_side(dfs,comments)\n",
    "    # df1"
   ]
  },
  {
   "cell_type": "code",
   "execution_count": null,
   "metadata": {},
   "outputs": [],
   "source": []
  }
 ],
 "metadata": {
  "language_info": {
   "name": "python"
  },
  "orig_nbformat": 4
 },
 "nbformat": 4,
 "nbformat_minor": 2
}
