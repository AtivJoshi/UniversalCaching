{
 "cells": [
  {
   "cell_type": "code",
   "execution_count": 1,
   "id": "2c79b33d-0770-44ca-bb00-d74393bfa524",
   "metadata": {},
   "outputs": [],
   "source": [
    "%%capture\n",
    "import sys\n",
    "import time\n",
    "from datetime import datetime as dt\n",
    "import pytz\n",
    "IST=pytz.timezone('Asia/Kolkata')"
   ]
  },
  {
   "cell_type": "code",
   "execution_count": 2,
   "id": "f2b1b46a-820b-453a-9ba6-f9f3b6055023",
   "metadata": {},
   "outputs": [],
   "source": [
    "import numpy as np\n",
    "import pandas as pd\n",
    "import caching_policy as cp\n",
    "import importlib\n",
    "importlib.reload(cp)\n",
    "from data_loader import *\n",
    "from network_generator import *\n",
    "from matplotlib import pyplot as plt\n",
    "from data_generation import *\n",
    "import h5py\n",
    "import seaborn as sns\n",
    "import ast"
   ]
  },
  {
   "cell_type": "code",
   "execution_count": 3,
   "id": "5dcbfd1a-7dcc-4071-a969-053284f662b2",
   "metadata": {},
   "outputs": [],
   "source": [
    "folder_path='/home/studio-lab-user/iplc/data/'"
   ]
  },
  {
   "cell_type": "markdown",
   "id": "0930a0e8-25cf-4432-a1c4-a32bfe63e11f",
   "metadata": {},
   "source": [
    "### "
   ]
  },
  {
   "cell_type": "code",
   "execution_count": 4,
   "id": "8776723b-b343-4b65-ab20-9be8bae0a612",
   "metadata": {},
   "outputs": [],
   "source": [
    "accuracy={}\n",
    "num_files=3\n",
    "cache_size=2\n",
    "num_states=50 # number of states of FSM used for generating synthetic data\n",
    "total_time=10000000#len(data)\n",
    "prob='exp'\n",
    "# prob='unif'\n",
    "\n",
    "# open an h5py file to store the experimental data\n",
    "store=h5py.File(folder_path+f'synthetic_fsm_num_files{num_files}_cache_size{cache_size}_S{num_states}_T{total_time}_{prob}.h5','w')"
   ]
  },
  {
   "cell_type": "code",
   "execution_count": null,
   "id": "503b20d7-e9d0-4cb2-8441-af53f4c34456",
   "metadata": {},
   "outputs": [],
   "source": [
    "# initializing probability distribution for generating the data \n",
    "if prob=='exp':\n",
    "    p=np.zeros(cache_size)\n",
    "    for i in range(len(p)):\n",
    "        p[i]=1./(2**(i+1))\n",
    "    p=p/p.sum()\n",
    "else:\n",
    "    p=None\n",
    "data=generate_data_fsm(num_files,cache_size,num_states,total_time,p)\n",
    "data=data[:,np.newaxis]"
   ]
  },
  {
   "cell_type": "code",
   "execution_count": 6,
   "id": "9d177161-7cba-43e2-9596-d7c519b48ed2",
   "metadata": {},
   "outputs": [],
   "source": [
    "# storing parameters in file\n",
    "store.create_dataset('data',data=data)\n",
    "store['data'].attrs['num_files']=num_files\n",
    "store['data'].attrs['cache_size']=cache_size\n",
    "store['data'].attrs['total_time']=total_time\n",
    "store['data'].attrs['num_states']=num_states"
   ]
  },
  {
   "cell_type": "code",
   "execution_count": null,
   "id": "853eaa9b-9aa9-4111-93f8-8f3a50400c1d",
   "metadata": {},
   "outputs": [],
   "source": [
    "# run the vanilla hedge algorithm\n",
    "cumulative_req_h,hits_h,rec_hitrate_h,rec_states_h=cp.hedge_fsm_single_cache(data,total_time,num_files,cache_size)\n",
    "accuracy['hedge']=rec_hitrate_h[-1]\n",
    "print(accuracy['hedge'])\n",
    "store['hedge/rec_hitrate']=rec_hitrate_h\n",
    "store['hedge/rec_states']=rec_states_h"
   ]
  },
  {
   "cell_type": "code",
   "execution_count": null,
   "id": "f544aeeb-e533-4347-b272-ae768ce575b4",
   "metadata": {},
   "outputs": [],
   "source": [
    "# run the markov predictors\n",
    "for k in range(1,15):\n",
    "    cumulative_req_m,hits_m,rec_hitrate_m,rec_states_m=cp.markov_online_single_cache(data,total_time,num_files,cache_size,k)\n",
    "    accuracy[k]=rec_hitrate_m[-1]\n",
    "    print(f'order {k} markov: ',accuracy[k])"
   ]
  },
  {
   "cell_type": "code",
   "execution_count": null,
   "id": "67e1b5f1-ed51-45b5-b0d6-b1c0e1ec8f23",
   "metadata": {},
   "outputs": [],
   "source": [
    "# run the universal caching algorithm, implemented using the Gumbel trick (ignore the function name)\n",
    "cumulative_req_f,hits_f,rec_hitrate_f=cp.ftpl(data,total_time,num_files,cache_size)\n",
    "accuracy['ftpl']=hits_f/cumulative_req_f\n",
    "accuracy['ftpl']\n",
    "store['data'].attrs['accuracy']=str(accuracy)"
   ]
  },
  {
   "cell_type": "code",
   "execution_count": null,
   "id": "8be64932-d020-4256-be12-c8a2f0453222",
   "metadata": {},
   "outputs": [],
   "source": [
    "store.close()"
   ]
  },
  {
   "cell_type": "markdown",
   "id": "ab43203f-e7ea-49d5-ae90-db9cc3e98c3d",
   "metadata": {},
   "source": [
    "# Plot"
   ]
  },
  {
   "cell_type": "code",
   "execution_count": null,
   "id": "ca74ce1c-f44c-4d92-ba1c-fb047e16f5a0",
   "metadata": {},
   "outputs": [],
   "source": [
    "def lb(Q,k,C,N,T):\n",
    "    '''\n",
    "    Lower bound as given by eq 9 (\\label{cache-miss-hedge}) in the paper.\n",
    "    Note that eq 9 gives an upperbound on cache misses, \n",
    "    but for plotting we convert it into a lower bound on cache hits.\n",
    "    '''\n",
    "    tmp=min(1-C/N,np.sqrt(np.log(Q)/(2*(k+1))))\n",
    "    tmp2=np.log(N*np.e/C)\n",
    "    return 1-(tmp + np.sqrt( 2*(N**k) * (C/T) * tmp2 * tmp) + (N**k)*(C/T) * tmp2)\n",
    "# def lb_asym(Q,k,C,N,T):\n",
    "#     return 1-min(1-C/N,np.sqrt(np.log(Q)/(2*(k+1))))\n",
    "# for i in range(1,15): \n",
    "#     print(i,lb(50,i,2,4,1e7))#,lb_asym(50,i,2,4,1e7))"
   ]
  },
  {
   "cell_type": "code",
   "execution_count": null,
   "id": "1141ff3d-40e3-4d36-a652-8b11011c4687",
   "metadata": {},
   "outputs": [],
   "source": [
    "# plot and save the files\n",
    "import matplotlib.patches as mpatches \n",
    "num_files=4\n",
    "cache_size=2\n",
    "num_states=50 # for generating synthetic data\n",
    "total_time=int(1e7)\n",
    "# prob='unif'\n",
    "prob='exp'\n",
    "store_path=folder_path+f'synthetic_fsm_num_files{num_files}_cache_size{cache_size}_S{num_states}_T{total_time}_{prob}.h5'\n",
    "with h5py.File(store_path,'r') as store:\n",
    "    sns.set(style=\"whitegrid\")\n",
    "    accuracy=ast.literal_eval(store['data'].attrs['accuracy'])\n",
    "    acc_hedge=accuracy.pop('hedge')\n",
    "    acc_ftpl=accuracy.pop('ftpl')\n",
    "    for i in list(accuracy.keys()):\n",
    "        x=accuracy.pop(i)\n",
    "        b=max(0,lb(num_states,i,cache_size,num_files,total_time))\n",
    "        print(i,b,x)\n",
    "        accuracy[str(i)]=[b,(x-b)]\n",
    "    # accuracy['UC']=[0,acc_hedge]\n",
    "    # accuracy['Hedge']=[0,acc_ftpl]\n",
    "    ax=pd.DataFrame.from_dict(accuracy,orient='index',columns=['Lower Bound','Markov']).plot(kind='bar',stacked=True)\n",
    "    # ax.containers[1][-2].set_color('r')\n",
    "    # ax.containers[1][-1].set_color('g')\n",
    "    ax.axhline(acc_hedge,ls='--',label='Universal Caching')\n",
    "    ax.axhline(acc_ftpl,ls='--',label='Hedge',c='red')\n",
    "    handles, labels = ax.get_legend_handles_labels()\n",
    "    # patchr = mpatches.Patch(color='r', label='Universal\\nCaching')\n",
    "    # patchg = mpatches.Patch(color='g', label='Hedge')\n",
    "    # handles.extend([patchr,patchg])\n",
    "    ax.legend(loc='upper left', bbox_to_anchor=(1,1),handles=handles)\n",
    "    # ax.set_xlabel('Order of Markov Prefetcher with Hedge ($k$)')\n",
    "    # ax.set_ylabel('Hitrate')\n",
    "    ax.text(0,1.05,f'num_files: {num_files}\\ncache_size:{cache_size}\\nnum_states:{num_states}\\nprob:{prob}\\ntime:{total_time}',transform=ax.transAxes)\n",
    "    ax.get_figure().savefig(folder_path+f'images/synthetic_fsm_num_files{num_files}_cache_size{cache_size}_S{num_states}_T{total_time}_{prob}_lb.png',bbox_inches=\"tight\")"
   ]
  }
 ],
 "metadata": {
  "kernelspec": {
   "display_name": "default:Python",
   "language": "python",
   "name": "conda-env-default-py"
  },
  "language_info": {
   "codemirror_mode": {
    "name": "ipython",
    "version": 3
   },
   "file_extension": ".py",
   "mimetype": "text/x-python",
   "name": "python",
   "nbconvert_exporter": "python",
   "pygments_lexer": "ipython3",
   "version": "3.9.12"
  }
 },
 "nbformat": 4,
 "nbformat_minor": 5
}
